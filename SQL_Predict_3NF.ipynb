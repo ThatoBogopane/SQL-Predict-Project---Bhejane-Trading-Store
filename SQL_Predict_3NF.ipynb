{
 "cells": [
  {
   "cell_type": "code",
   "execution_count": 1,
   "metadata": {},
   "outputs": [],
   "source": [
    "%load_ext sql"
   ]
  },
  {
   "cell_type": "code",
   "execution_count": 2,
   "metadata": {},
   "outputs": [],
   "source": [
    "%%sql \n",
    "\n",
    "sqlite:///bhejane.db"
   ]
  },
  {
   "cell_type": "code",
   "execution_count": 3,
   "metadata": {},
   "outputs": [
    {
     "name": "stdout",
     "output_type": "stream",
     "text": [
      " * sqlite:///bhejane.db\n",
      "Done.\n"
     ]
    },
    {
     "data": {
      "text/html": [
       "<table>\n",
       "    <tr>\n",
       "        <th>type</th>\n",
       "        <th>name</th>\n",
       "        <th>tbl_name</th>\n",
       "        <th>rootpage</th>\n",
       "        <th>sql</th>\n",
       "    </tr>\n",
       "    <tr>\n",
       "        <td>table</td>\n",
       "        <td>Products_1NF</td>\n",
       "        <td>Products_1NF</td>\n",
       "        <td>68</td>\n",
       "        <td>CREATE TABLE Products_1NF (<br>            Barcode VARCHAR(150) NOT NULL,<br>            NavigationPath VARCHAR(150) NOT NULL,<br>            ItemDescription VARCHAR(150) NOT NULL,<br>            ProductDescription VARCHAR(150) NOT NULL,<br>            Brand VARCHAR(150),<br>            Price REAL NOT NULL,<br>            Quantity INTEGER NOT NULL,<br>            PackType VARCHAR(150),<br>            Warranty VARCHAR(150),<br>            StockCountry VARCHAR(150),<br>            Colour VARCHAR(150),<br>            Weight_kg REAL,<br>            Volume_litre REAL,<br>            Length REAL,<br>            Width REAL,<br>            Height REAL,<br>            PRIMARY KEY (Barcode, NavigationPath, ItemDescription))</td>\n",
       "    </tr>\n",
       "    <tr>\n",
       "        <td>index</td>\n",
       "        <td>sqlite_autoindex_Products_1NF_1</td>\n",
       "        <td>Products_1NF</td>\n",
       "        <td>69</td>\n",
       "        <td>None</td>\n",
       "    </tr>\n",
       "    <tr>\n",
       "        <td>table</td>\n",
       "        <td>Transactions_2NF</td>\n",
       "        <td>Transactions_2NF</td>\n",
       "        <td>70</td>\n",
       "        <td>CREATE TABLE &quot;Transactions_2NF&quot; (<br>            CartID INTEGER NOT NULL,<br>            Barcode VARCHAR(150) NOT NULL,<br>            UserName VARCHAR(150) NOT NULL,<br>            InvoiceDate DATETIME NOT NULL,<br>            Total REAL NOT NULL,<br>            PRIMARY KEY (CartID, Barcode))</td>\n",
       "    </tr>\n",
       "    <tr>\n",
       "        <td>index</td>\n",
       "        <td>sqlite_autoindex_Transactions_2NF_1</td>\n",
       "        <td>Transactions_2NF</td>\n",
       "        <td>71</td>\n",
       "        <td>None</td>\n",
       "    </tr>\n",
       "    <tr>\n",
       "        <td>table</td>\n",
       "        <td>Navigation_2NF</td>\n",
       "        <td>Navigation_2NF</td>\n",
       "        <td>2</td>\n",
       "        <td>CREATE TABLE Navigation_2NF(<br>            PathID INTEGER NOT NULL,<br>            NavigationPath VARCHAR(150),<br>            PRIMARY KEY (PathID))</td>\n",
       "    </tr>\n",
       "    <tr>\n",
       "        <td>table</td>\n",
       "        <td>PackageContents_2NF</td>\n",
       "        <td>PackageContents_2NF</td>\n",
       "        <td>3</td>\n",
       "        <td>CREATE TABLE PackageContents_2NF(<br>            ItemID INTEGER NOT NULL,<br>            ItemDescription VARCHAR(150),<br>            PackType VARCHAR(150),<br>            Warranty VARCHAR(150),<br>            PRIMARY KEY (ItemID))</td>\n",
       "    </tr>\n",
       "    <tr>\n",
       "        <td>table</td>\n",
       "        <td>Colours_2NF</td>\n",
       "        <td>Colours_2NF</td>\n",
       "        <td>5</td>\n",
       "        <td>CREATE TABLE Colours_2NF(<br>            ColourID INTEGER NOT NULL,<br>            Colour VARCHAR(150),<br>            PRIMARY KEY (ColourID))</td>\n",
       "    </tr>\n",
       "    <tr>\n",
       "        <td>table</td>\n",
       "        <td>Products_2NF</td>\n",
       "        <td>Products_2NF</td>\n",
       "        <td>6</td>\n",
       "        <td>CREATE TABLE Products_2NF (<br>            RegistryID INTEGER NOT NULL, <br>            Barcode VARCHAR(150) NOT NULL REFERENCES Transactions_2NF(Barcode),<br>            ProductDescription VARCHAR(150) NOT NULL,<br>            Brand VARCHAR(150),<br>            Price REAL NOT NULL,<br>            Quantity INTEGER NOT NULL,<br>            StockCountry VARCHAR(150),<br>            Weight_kg REAL,<br>            Volume_litre REAL,<br>            Length REAL,<br>            Width REAL,<br>            Height REAL,<br>            PathID INTEGER REFERENCES Navigation_2NF(PathID),<br>            ItemID INTEGER REFERENCES PackageContents_2NF(ItemID),<br>           ColourID INTEGER REFERENCES Colours_2NF(ColourID),<br>           PRIMARY KEY (RegistryID))</td>\n",
       "    </tr>\n",
       "</table>"
      ],
      "text/plain": [
       "[('table', 'Products_1NF', 'Products_1NF', 68, 'CREATE TABLE Products_1NF (\\n            Barcode VARCHAR(150) NOT NULL,\\n            NavigationPath VARCHAR(150) NOT NULL,\\n            ItemDescripti ... (391 characters truncated) ... AL,\\n            Length REAL,\\n            Width REAL,\\n            Height REAL,\\n            PRIMARY KEY (Barcode, NavigationPath, ItemDescription))'),\n",
       " ('index', 'sqlite_autoindex_Products_1NF_1', 'Products_1NF', 69, None),\n",
       " ('table', 'Transactions_2NF', 'Transactions_2NF', 70, 'CREATE TABLE \"Transactions_2NF\" (\\n            CartID INTEGER NOT NULL,\\n            Barcode VARCHAR(150) NOT NULL,\\n            UserName VARCHAR(150) NOT NULL,\\n            InvoiceDate DATETIME NOT NULL,\\n            Total REAL NOT NULL,\\n            PRIMARY KEY (CartID, Barcode))'),\n",
       " ('index', 'sqlite_autoindex_Transactions_2NF_1', 'Transactions_2NF', 71, None),\n",
       " ('table', 'Navigation_2NF', 'Navigation_2NF', 2, 'CREATE TABLE Navigation_2NF(\\n            PathID INTEGER NOT NULL,\\n            NavigationPath VARCHAR(150),\\n            PRIMARY KEY (PathID))'),\n",
       " ('table', 'PackageContents_2NF', 'PackageContents_2NF', 3, 'CREATE TABLE PackageContents_2NF(\\n            ItemID INTEGER NOT NULL,\\n            ItemDescription VARCHAR(150),\\n            PackType VARCHAR(150),\\n            Warranty VARCHAR(150),\\n            PRIMARY KEY (ItemID))'),\n",
       " ('table', 'Colours_2NF', 'Colours_2NF', 5, 'CREATE TABLE Colours_2NF(\\n            ColourID INTEGER NOT NULL,\\n            Colour VARCHAR(150),\\n            PRIMARY KEY (ColourID))'),\n",
       " ('table', 'Products_2NF', 'Products_2NF', 6, 'CREATE TABLE Products_2NF (\\n            RegistryID INTEGER NOT NULL, \\n            Barcode VARCHAR(150) NOT NULL REFERENCES Transactions_2NF(Barcode ... (425 characters truncated) ...  INTEGER REFERENCES PackageContents_2NF(ItemID),\\n           ColourID INTEGER REFERENCES Colours_2NF(ColourID),\\n           PRIMARY KEY (RegistryID))')]"
      ]
     },
     "execution_count": 3,
     "metadata": {},
     "output_type": "execute_result"
    }
   ],
   "source": [
    "%%sql \n",
    "\n",
    "SELECT * FROM sqlite_master"
   ]
  },
  {
   "cell_type": "code",
   "execution_count": 4,
   "metadata": {},
   "outputs": [
    {
     "name": "stdout",
     "output_type": "stream",
     "text": [
      " * sqlite:///bhejane.db\n",
      "Done.\n",
      "Done.\n",
      "Done.\n",
      "Done.\n",
      "Done.\n",
      "Done.\n",
      "Done.\n",
      "Done.\n",
      "Done.\n",
      "Done.\n",
      "Done.\n",
      "Done.\n",
      "Done.\n",
      "Done.\n",
      "Done.\n",
      "Done.\n"
     ]
    },
    {
     "data": {
      "text/plain": [
       "[]"
      ]
     },
     "execution_count": 4,
     "metadata": {},
     "output_type": "execute_result"
    }
   ],
   "source": [
    "%%sql\n",
    "\n",
    "DROP TABLE IF EXISTS Transactions_3NF;\n",
    "DROP TABLE IF EXISTS Navigation_3NF;\n",
    "DROP TABLE IF EXISTS Products_3NF;\n",
    "DROP TABLE IF EXISTS Users_3NF;\n",
    "DROP TABLE IF EXISTS PackageContents_3NF;\n",
    "DROP TABLE IF EXISTS Colours_3NF;\n",
    "DROP TABLE IF EXISTS Brands_3NF;\n",
    "DROP TABLE IF EXISTS Locations_3NF;\n",
    "\n",
    "\n",
    "CREATE TABLE Users_3NF(\n",
    "            UserID INTEGER NOT NULL,\n",
    "            UserName VARCHAR (150) NOT NULL,\n",
    "            PRIMARY KEY (UserID));\n",
    "            \n",
    "ALTER TABLE Navigation_2NF RENAME TO Navigation_3NF;\n",
    "            \n",
    "ALTER TABLE PackageContents_2NF RENAME TO PackageContents_3NF;\n",
    "           \n",
    "ALTER TABLE Colours_2NF RENAME TO Colours_3NF;\n",
    "            \n",
    "            \n",
    "CREATE TABLE Brands_3NF(\n",
    "            BrandID INTEGER NOT NULL,\n",
    "            Brand VARCHAR(150),\n",
    "            PRIMARY KEY (BrandID));\n",
    "            \n",
    "CREATE TABLE Locations_3NF(\n",
    "            LocationID INTEGER NOT NULL,\n",
    "            StockCountry VARCHAR(150),\n",
    "            PRIMARY KEY (LocationID));\n",
    "            \n",
    "CREATE TABLE Transactions_3NF (\n",
    "            CartID INTEGER NOT NULL,\n",
    "            Barcode VARCHAR(150) NOT NULL,\n",
    "            UserID INTEGER REFERENCES Users_3NF(UserID),\n",
    "            InvoiceDate DATETIME NOT NULL,\n",
    "            Total REAL NOT NULL,\n",
    "            PRIMARY KEY (CartID, Barcode));\n",
    "\n",
    "            \n",
    "CREATE TABLE Products_3NF (\n",
    "            RegistryID INTEGER NOT NULL, \n",
    "            Barcode VARCHAR(150) NOT NULL REFERENCES Transactions_3NF(Barcode),\n",
    "            ProductDescription VARCHAR(150) NOT NULL,\n",
    "            Price REAL NOT NULL,\n",
    "            Quantity INTEGER NOT NULL,\n",
    "            Weight_kg REAL,\n",
    "            Volume_litre REAL,\n",
    "            Length REAL,\n",
    "            Width REAL,\n",
    "            Height REAL,\n",
    "            PathID INTEGER REFERENCES Navigation_3NF(PathID),\n",
    "            ItemID INTEGER REFERENCES PackageContents_3NF(ItemID),\n",
    "           ColourID INTEGER REFERENCES Colours_3NF(ColourID),\n",
    "            BrandID INTEGER REFERENCES Brands_3NF (BrandID),\n",
    "            LocationID INTEGER REFERENCES Locations_3NF (LocationID),\n",
    "           PRIMARY KEY (RegistryID));\n",
    "\n",
    "            \n"
   ]
  },
  {
   "cell_type": "code",
   "execution_count": 5,
   "metadata": {},
   "outputs": [
    {
     "name": "stdout",
     "output_type": "stream",
     "text": [
      " * sqlite:///bhejane.db\n",
      "160 rows affected.\n"
     ]
    },
    {
     "data": {
      "text/plain": [
       "[]"
      ]
     },
     "execution_count": 5,
     "metadata": {},
     "output_type": "execute_result"
    }
   ],
   "source": [
    "%%sql\n",
    "\n",
    "INSERT INTO Users_3NF (UserName)\n",
    "    SELECT DISTINCT UserName\n",
    "    FROM Transactions_2NF\n",
    "    WHERE UserName != ''\n",
    "    ORDER BY rowid;\n",
    "    "
   ]
  },
  {
   "cell_type": "code",
   "execution_count": 6,
   "metadata": {},
   "outputs": [
    {
     "name": "stdout",
     "output_type": "stream",
     "text": [
      " * sqlite:///bhejane.db\n",
      "232 rows affected.\n"
     ]
    },
    {
     "data": {
      "text/plain": [
       "[]"
      ]
     },
     "execution_count": 6,
     "metadata": {},
     "output_type": "execute_result"
    }
   ],
   "source": [
    "%%sql\n",
    "\n",
    "INSERT INTO Brands_3NF (Brand)\n",
    "    SELECT DISTINCT Brand\n",
    "    FROM Products_2NF\n",
    "    WHERE Brand != ''\n",
    "    ORDER BY rowid;"
   ]
  },
  {
   "cell_type": "code",
   "execution_count": 7,
   "metadata": {},
   "outputs": [
    {
     "name": "stdout",
     "output_type": "stream",
     "text": [
      " * sqlite:///bhejane.db\n",
      "2 rows affected.\n"
     ]
    },
    {
     "data": {
      "text/plain": [
       "[]"
      ]
     },
     "execution_count": 7,
     "metadata": {},
     "output_type": "execute_result"
    }
   ],
   "source": [
    "%%sql\n",
    "\n",
    "INSERT INTO Locations_3NF (StockCountry)\n",
    "    SELECT DISTINCT StockCountry\n",
    "    FROM Products_2NF\n",
    "    WHERE StockCountry != ''\n",
    "    ORDER BY rowid;\n"
   ]
  },
  {
   "cell_type": "code",
   "execution_count": 8,
   "metadata": {},
   "outputs": [
    {
     "name": "stdout",
     "output_type": "stream",
     "text": [
      " * sqlite:///bhejane.db\n",
      "278 rows affected.\n"
     ]
    },
    {
     "data": {
      "text/plain": [
       "[]"
      ]
     },
     "execution_count": 8,
     "metadata": {},
     "output_type": "execute_result"
    }
   ],
   "source": [
    "%%sql\n",
    "\n",
    "INSERT INTO Transactions_3NF (CartID, Barcode, UserID, InvoiceDate, Total)\n",
    "  SELECT CartID, Barcode, UserID, InvoiceDate, Total\n",
    "  FROM Transactions_2NF \n",
    "  LEFT JOIN Users_3NF ON Users_3NF.Username = Transactions_2NF.UserName;\n",
    " "
   ]
  },
  {
   "cell_type": "code",
   "execution_count": 9,
   "metadata": {},
   "outputs": [
    {
     "name": "stdout",
     "output_type": "stream",
     "text": [
      " * sqlite:///bhejane.db\n",
      "1214 rows affected.\n"
     ]
    },
    {
     "data": {
      "text/plain": [
       "[]"
      ]
     },
     "execution_count": 9,
     "metadata": {},
     "output_type": "execute_result"
    }
   ],
   "source": [
    "%%sql\n",
    "\n",
    "INSERT INTO Products_3NF (Barcode,ProductDescription, Price, Quantity, Weight_kg, Volume_litre, Length, Width, Height, PathID, ItemID, ColourID, BrandID,LocationID)\n",
    "SELECT Barcode,ProductDescription, Price, Quantity, Weight_kg, Volume_litre, Length, Width, Height, PathID, ItemID, ColourID,BrandID,LocationID\n",
    "         FROM Products_2NF\n",
    "         LEFT JOIN Brands_3NF ON Brands_3NF.Brand = Products_2NF.Brand\n",
    "         LEFT JOIN Locations_3NF ON Locations_3NF.StockCountry = Products_2NF.StockCountry;"
   ]
  },
  {
   "cell_type": "code",
   "execution_count": 10,
   "metadata": {},
   "outputs": [
    {
     "name": "stdout",
     "output_type": "stream",
     "text": [
      " * sqlite:///bhejane.db\n",
      "Done.\n"
     ]
    },
    {
     "data": {
      "text/html": [
       "<table>\n",
       "    <tr>\n",
       "        <th>COUNT (DISTINCT Barcode)</th>\n",
       "    </tr>\n",
       "    <tr>\n",
       "        <td>608</td>\n",
       "    </tr>\n",
       "</table>"
      ],
      "text/plain": [
       "[(608,)]"
      ]
     },
     "execution_count": 10,
     "metadata": {},
     "output_type": "execute_result"
    }
   ],
   "source": [
    "%%sql\n",
    "\n",
    "SELECT COUNT (DISTINCT Barcode)\n",
    "FROM Products_3NF"
   ]
  },
  {
   "cell_type": "code",
   "execution_count": 11,
   "metadata": {},
   "outputs": [
    {
     "name": "stdout",
     "output_type": "stream",
     "text": [
      " * sqlite:///bhejane.db\n",
      "Done.\n",
      "Done.\n"
     ]
    },
    {
     "data": {
      "text/plain": [
       "[]"
      ]
     },
     "execution_count": 11,
     "metadata": {},
     "output_type": "execute_result"
    }
   ],
   "source": [
    "%%sql\n",
    "\n",
    "DROP TABLE Transactions_2NF;\n",
    "DROP TABLE Products_2NF"
   ]
  },
  {
   "cell_type": "code",
   "execution_count": 12,
   "metadata": {},
   "outputs": [
    {
     "name": "stdout",
     "output_type": "stream",
     "text": [
      " * sqlite:///bhejane.db\n",
      "Done.\n"
     ]
    },
    {
     "data": {
      "text/html": [
       "<table>\n",
       "    <tr>\n",
       "        <th>type</th>\n",
       "        <th>name</th>\n",
       "        <th>tbl_name</th>\n",
       "        <th>rootpage</th>\n",
       "        <th>sql</th>\n",
       "    </tr>\n",
       "    <tr>\n",
       "        <td>table</td>\n",
       "        <td>Products_1NF</td>\n",
       "        <td>Products_1NF</td>\n",
       "        <td>68</td>\n",
       "        <td>CREATE TABLE Products_1NF (<br>            Barcode VARCHAR(150) NOT NULL,<br>            NavigationPath VARCHAR(150) NOT NULL,<br>            ItemDescription VARCHAR(150) NOT NULL,<br>            ProductDescription VARCHAR(150) NOT NULL,<br>            Brand VARCHAR(150),<br>            Price REAL NOT NULL,<br>            Quantity INTEGER NOT NULL,<br>            PackType VARCHAR(150),<br>            Warranty VARCHAR(150),<br>            StockCountry VARCHAR(150),<br>            Colour VARCHAR(150),<br>            Weight_kg REAL,<br>            Volume_litre REAL,<br>            Length REAL,<br>            Width REAL,<br>            Height REAL,<br>            PRIMARY KEY (Barcode, NavigationPath, ItemDescription))</td>\n",
       "    </tr>\n",
       "    <tr>\n",
       "        <td>index</td>\n",
       "        <td>sqlite_autoindex_Products_1NF_1</td>\n",
       "        <td>Products_1NF</td>\n",
       "        <td>69</td>\n",
       "        <td>None</td>\n",
       "    </tr>\n",
       "    <tr>\n",
       "        <td>table</td>\n",
       "        <td>Navigation_3NF</td>\n",
       "        <td>Navigation_3NF</td>\n",
       "        <td>2</td>\n",
       "        <td>CREATE TABLE &quot;Navigation_3NF&quot;(<br>            PathID INTEGER NOT NULL,<br>            NavigationPath VARCHAR(150),<br>            PRIMARY KEY (PathID))</td>\n",
       "    </tr>\n",
       "    <tr>\n",
       "        <td>table</td>\n",
       "        <td>PackageContents_3NF</td>\n",
       "        <td>PackageContents_3NF</td>\n",
       "        <td>3</td>\n",
       "        <td>CREATE TABLE &quot;PackageContents_3NF&quot;(<br>            ItemID INTEGER NOT NULL,<br>            ItemDescription VARCHAR(150),<br>            PackType VARCHAR(150),<br>            Warranty VARCHAR(150),<br>            PRIMARY KEY (ItemID))</td>\n",
       "    </tr>\n",
       "    <tr>\n",
       "        <td>table</td>\n",
       "        <td>Colours_3NF</td>\n",
       "        <td>Colours_3NF</td>\n",
       "        <td>5</td>\n",
       "        <td>CREATE TABLE &quot;Colours_3NF&quot;(<br>            ColourID INTEGER NOT NULL,<br>            Colour VARCHAR(150),<br>            PRIMARY KEY (ColourID))</td>\n",
       "    </tr>\n",
       "    <tr>\n",
       "        <td>table</td>\n",
       "        <td>Users_3NF</td>\n",
       "        <td>Users_3NF</td>\n",
       "        <td>10</td>\n",
       "        <td>CREATE TABLE Users_3NF(<br>            UserID INTEGER NOT NULL,<br>            UserName VARCHAR (150) NOT NULL,<br>            PRIMARY KEY (UserID))</td>\n",
       "    </tr>\n",
       "    <tr>\n",
       "        <td>table</td>\n",
       "        <td>Brands_3NF</td>\n",
       "        <td>Brands_3NF</td>\n",
       "        <td>11</td>\n",
       "        <td>CREATE TABLE Brands_3NF(<br>            BrandID INTEGER NOT NULL,<br>            Brand VARCHAR(150),<br>            PRIMARY KEY (BrandID))</td>\n",
       "    </tr>\n",
       "    <tr>\n",
       "        <td>table</td>\n",
       "        <td>Locations_3NF</td>\n",
       "        <td>Locations_3NF</td>\n",
       "        <td>12</td>\n",
       "        <td>CREATE TABLE Locations_3NF(<br>            LocationID INTEGER NOT NULL,<br>            StockCountry VARCHAR(150),<br>            PRIMARY KEY (LocationID))</td>\n",
       "    </tr>\n",
       "    <tr>\n",
       "        <td>table</td>\n",
       "        <td>Transactions_3NF</td>\n",
       "        <td>Transactions_3NF</td>\n",
       "        <td>13</td>\n",
       "        <td>CREATE TABLE Transactions_3NF (<br>            CartID INTEGER NOT NULL,<br>            Barcode VARCHAR(150) NOT NULL,<br>            UserID INTEGER REFERENCES Users_3NF(UserID),<br>            InvoiceDate DATETIME NOT NULL,<br>            Total REAL NOT NULL,<br>            PRIMARY KEY (CartID, Barcode))</td>\n",
       "    </tr>\n",
       "    <tr>\n",
       "        <td>index</td>\n",
       "        <td>sqlite_autoindex_Transactions_3NF_1</td>\n",
       "        <td>Transactions_3NF</td>\n",
       "        <td>14</td>\n",
       "        <td>None</td>\n",
       "    </tr>\n",
       "    <tr>\n",
       "        <td>table</td>\n",
       "        <td>Products_3NF</td>\n",
       "        <td>Products_3NF</td>\n",
       "        <td>15</td>\n",
       "        <td>CREATE TABLE Products_3NF (<br>            RegistryID INTEGER NOT NULL, <br>            Barcode VARCHAR(150) NOT NULL REFERENCES Transactions_3NF(Barcode),<br>            ProductDescription VARCHAR(150) NOT NULL,<br>            Price REAL NOT NULL,<br>            Quantity INTEGER NOT NULL,<br>            Weight_kg REAL,<br>            Volume_litre REAL,<br>            Length REAL,<br>            Width REAL,<br>            Height REAL,<br>            PathID INTEGER REFERENCES Navigation_3NF(PathID),<br>            ItemID INTEGER REFERENCES PackageContents_3NF(ItemID),<br>           ColourID INTEGER REFERENCES Colours_3NF(ColourID),<br>            BrandID INTEGER REFERENCES Brands_3NF (BrandID),<br>            LocationID INTEGER REFERENCES Locations_3NF (LocationID),<br>           PRIMARY KEY (RegistryID))</td>\n",
       "    </tr>\n",
       "</table>"
      ],
      "text/plain": [
       "[('table', 'Products_1NF', 'Products_1NF', 68, 'CREATE TABLE Products_1NF (\\n            Barcode VARCHAR(150) NOT NULL,\\n            NavigationPath VARCHAR(150) NOT NULL,\\n            ItemDescripti ... (391 characters truncated) ... AL,\\n            Length REAL,\\n            Width REAL,\\n            Height REAL,\\n            PRIMARY KEY (Barcode, NavigationPath, ItemDescription))'),\n",
       " ('index', 'sqlite_autoindex_Products_1NF_1', 'Products_1NF', 69, None),\n",
       " ('table', 'Navigation_3NF', 'Navigation_3NF', 2, 'CREATE TABLE \"Navigation_3NF\"(\\n            PathID INTEGER NOT NULL,\\n            NavigationPath VARCHAR(150),\\n            PRIMARY KEY (PathID))'),\n",
       " ('table', 'PackageContents_3NF', 'PackageContents_3NF', 3, 'CREATE TABLE \"PackageContents_3NF\"(\\n            ItemID INTEGER NOT NULL,\\n            ItemDescription VARCHAR(150),\\n            PackType VARCHAR(150),\\n            Warranty VARCHAR(150),\\n            PRIMARY KEY (ItemID))'),\n",
       " ('table', 'Colours_3NF', 'Colours_3NF', 5, 'CREATE TABLE \"Colours_3NF\"(\\n            ColourID INTEGER NOT NULL,\\n            Colour VARCHAR(150),\\n            PRIMARY KEY (ColourID))'),\n",
       " ('table', 'Users_3NF', 'Users_3NF', 10, 'CREATE TABLE Users_3NF(\\n            UserID INTEGER NOT NULL,\\n            UserName VARCHAR (150) NOT NULL,\\n            PRIMARY KEY (UserID))'),\n",
       " ('table', 'Brands_3NF', 'Brands_3NF', 11, 'CREATE TABLE Brands_3NF(\\n            BrandID INTEGER NOT NULL,\\n            Brand VARCHAR(150),\\n            PRIMARY KEY (BrandID))'),\n",
       " ('table', 'Locations_3NF', 'Locations_3NF', 12, 'CREATE TABLE Locations_3NF(\\n            LocationID INTEGER NOT NULL,\\n            StockCountry VARCHAR(150),\\n            PRIMARY KEY (LocationID))'),\n",
       " ('table', 'Transactions_3NF', 'Transactions_3NF', 13, 'CREATE TABLE Transactions_3NF (\\n            CartID INTEGER NOT NULL,\\n            Barcode VARCHAR(150) NOT NULL,\\n            UserID INTEGER REFERENCES Users_3NF(UserID),\\n            InvoiceDate DATETIME NOT NULL,\\n            Total REAL NOT NULL,\\n            PRIMARY KEY (CartID, Barcode))'),\n",
       " ('index', 'sqlite_autoindex_Transactions_3NF_1', 'Transactions_3NF', 14, None),\n",
       " ('table', 'Products_3NF', 'Products_3NF', 15, 'CREATE TABLE Products_3NF (\\n            RegistryID INTEGER NOT NULL, \\n            Barcode VARCHAR(150) NOT NULL REFERENCES Transactions_3NF(Barcode ... (485 characters truncated) ... INTEGER REFERENCES Brands_3NF (BrandID),\\n            LocationID INTEGER REFERENCES Locations_3NF (LocationID),\\n           PRIMARY KEY (RegistryID))')]"
      ]
     },
     "execution_count": 12,
     "metadata": {},
     "output_type": "execute_result"
    }
   ],
   "source": [
    "%%sql \n",
    "\n",
    "SELECT * FROM sqlite_master"
   ]
  },
  {
   "cell_type": "code",
   "execution_count": 14,
   "metadata": {},
   "outputs": [
    {
     "name": "stdout",
     "output_type": "stream",
     "text": [
      " * sqlite:///bhejane.db\n",
      "Done.\n"
     ]
    },
    {
     "data": {
      "text/html": [
       "<table>\n",
       "    <tr>\n",
       "        <th>Count (DISTINCT Barcode)</th>\n",
       "    </tr>\n",
       "    <tr>\n",
       "        <td>223</td>\n",
       "    </tr>\n",
       "</table>"
      ],
      "text/plain": [
       "[(223,)]"
      ]
     },
     "execution_count": 14,
     "metadata": {},
     "output_type": "execute_result"
    }
   ],
   "source": [
    "%%sql\n",
    "\n",
    "SELECT Count (DISTINCT Barcode)\n",
    "FROM Transactions_3NF"
   ]
  },
  {
   "cell_type": "code",
   "execution_count": null,
   "metadata": {},
   "outputs": [],
   "source": []
  }
 ],
 "metadata": {
  "kernelspec": {
   "display_name": "Python 3",
   "language": "python",
   "name": "python3"
  },
  "language_info": {
   "codemirror_mode": {
    "name": "ipython",
    "version": 3
   },
   "file_extension": ".py",
   "mimetype": "text/x-python",
   "name": "python",
   "nbconvert_exporter": "python",
   "pygments_lexer": "ipython3",
   "version": "3.8.5"
  }
 },
 "nbformat": 4,
 "nbformat_minor": 4
}
