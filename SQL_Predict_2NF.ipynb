{
 "cells": [
  {
   "cell_type": "code",
   "execution_count": 1,
   "metadata": {},
   "outputs": [],
   "source": [
    "%load_ext sql"
   ]
  },
  {
   "cell_type": "code",
   "execution_count": 2,
   "metadata": {},
   "outputs": [],
   "source": [
    "%%sql \n",
    "\n",
    "sqlite:///bhejane.db"
   ]
  },
  {
   "cell_type": "code",
   "execution_count": 3,
   "metadata": {},
   "outputs": [
    {
     "name": "stdout",
     "output_type": "stream",
     "text": [
      " * sqlite:///bhejane.db\n",
      "Done.\n"
     ]
    },
    {
     "data": {
      "text/html": [
       "<table>\n",
       "    <tr>\n",
       "        <th>type</th>\n",
       "        <th>name</th>\n",
       "        <th>tbl_name</th>\n",
       "        <th>rootpage</th>\n",
       "        <th>sql</th>\n",
       "    </tr>\n",
       "    <tr>\n",
       "        <td>table</td>\n",
       "        <td>Products_1NF</td>\n",
       "        <td>Products_1NF</td>\n",
       "        <td>68</td>\n",
       "        <td>CREATE TABLE Products_1NF (<br>            Barcode VARCHAR(150) NOT NULL,<br>            NavigationPath VARCHAR(150) NOT NULL,<br>            ItemDescription VARCHAR(150) NOT NULL,<br>            ProductDescription VARCHAR(150) NOT NULL,<br>            Brand VARCHAR(150),<br>            Price REAL NOT NULL,<br>            Quantity INTEGER NOT NULL,<br>            PackType VARCHAR(150),<br>            Warranty VARCHAR(150),<br>            StockCountry VARCHAR(150),<br>            Colour VARCHAR(150),<br>            Weight_kg REAL,<br>            Volume_litre REAL,<br>            Length REAL,<br>            Width REAL,<br>            Height REAL,<br>            PRIMARY KEY (Barcode, NavigationPath, ItemDescription))</td>\n",
       "    </tr>\n",
       "    <tr>\n",
       "        <td>index</td>\n",
       "        <td>sqlite_autoindex_Products_1NF_1</td>\n",
       "        <td>Products_1NF</td>\n",
       "        <td>69</td>\n",
       "        <td>None</td>\n",
       "    </tr>\n",
       "    <tr>\n",
       "        <td>table</td>\n",
       "        <td>Transactions_1NF</td>\n",
       "        <td>Transactions_1NF</td>\n",
       "        <td>70</td>\n",
       "        <td>CREATE TABLE Transactions_1NF (<br>            CartID INTEGER NOT NULL,<br>            Barcode VARCHAR(150) NOT NULL,<br>            UserName VARCHAR(150) NOT NULL,<br>            InvoiceDate DATETIME NOT NULL,<br>            Total REAL NOT NULL,<br>            PRIMARY KEY (CartID, Barcode))</td>\n",
       "    </tr>\n",
       "    <tr>\n",
       "        <td>index</td>\n",
       "        <td>sqlite_autoindex_Transactions_1NF_1</td>\n",
       "        <td>Transactions_1NF</td>\n",
       "        <td>71</td>\n",
       "        <td>None</td>\n",
       "    </tr>\n",
       "</table>"
      ],
      "text/plain": [
       "[('table', 'Products_1NF', 'Products_1NF', 68, 'CREATE TABLE Products_1NF (\\n            Barcode VARCHAR(150) NOT NULL,\\n            NavigationPath VARCHAR(150) NOT NULL,\\n            ItemDescripti ... (391 characters truncated) ... AL,\\n            Length REAL,\\n            Width REAL,\\n            Height REAL,\\n            PRIMARY KEY (Barcode, NavigationPath, ItemDescription))'),\n",
       " ('index', 'sqlite_autoindex_Products_1NF_1', 'Products_1NF', 69, None),\n",
       " ('table', 'Transactions_1NF', 'Transactions_1NF', 70, 'CREATE TABLE Transactions_1NF (\\n            CartID INTEGER NOT NULL,\\n            Barcode VARCHAR(150) NOT NULL,\\n            UserName VARCHAR(150) NOT NULL,\\n            InvoiceDate DATETIME NOT NULL,\\n            Total REAL NOT NULL,\\n            PRIMARY KEY (CartID, Barcode))'),\n",
       " ('index', 'sqlite_autoindex_Transactions_1NF_1', 'Transactions_1NF', 71, None)]"
      ]
     },
     "execution_count": 3,
     "metadata": {},
     "output_type": "execute_result"
    }
   ],
   "source": [
    "%%sql \n",
    "\n",
    "SELECT * FROM sqlite_master"
   ]
  },
  {
   "cell_type": "code",
   "execution_count": 4,
   "metadata": {},
   "outputs": [
    {
     "name": "stdout",
     "output_type": "stream",
     "text": [
      " * sqlite:///bhejane.db\n",
      "Done.\n",
      "Done.\n",
      "Done.\n",
      "Done.\n",
      "Done.\n"
     ]
    },
    {
     "data": {
      "text/plain": [
       "[]"
      ]
     },
     "execution_count": 4,
     "metadata": {},
     "output_type": "execute_result"
    }
   ],
   "source": [
    "%%sql \n",
    "\n",
    "ALTER TABLE Transactions_1NF\n",
    "RENAME TO Transactions_2NF;\n",
    "\n",
    "CREATE TABLE Navigation_2NF(\n",
    "            PathID INTEGER NOT NULL,\n",
    "            NavigationPath VARCHAR(150),\n",
    "            PRIMARY KEY (PathID));\n",
    "             \n",
    "\n",
    "CREATE TABLE PackageContents_2NF(\n",
    "            ItemID INTEGER NOT NULL,\n",
    "            ItemDescription VARCHAR(150),\n",
    "            PackType VARCHAR(150),\n",
    "            Warranty VARCHAR(150),\n",
    "            PRIMARY KEY (ItemID));\n",
    "            \n",
    "CREATE TABLE Colours_2NF(\n",
    "            ColourID INTEGER NOT NULL,\n",
    "            Colour VARCHAR(150),\n",
    "            PRIMARY KEY (ColourID));\n",
    "            \n",
    " CREATE TABLE Products_2NF (\n",
    "            RegistryID INTEGER NOT NULL, \n",
    "            Barcode VARCHAR(150) NOT NULL REFERENCES Transactions_2NF(Barcode),\n",
    "            ProductDescription VARCHAR(150) NOT NULL,\n",
    "            Brand VARCHAR(150),\n",
    "            Price REAL NOT NULL,\n",
    "            Quantity INTEGER NOT NULL,\n",
    "            StockCountry VARCHAR(150),\n",
    "            Weight_kg REAL,\n",
    "            Volume_litre REAL,\n",
    "            Length REAL,\n",
    "            Width REAL,\n",
    "            Height REAL,\n",
    "            PathID INTEGER REFERENCES Navigation_2NF(PathID),\n",
    "            ItemID INTEGER REFERENCES PackageContents_2NF(ItemID),\n",
    "           ColourID INTEGER REFERENCES Colours_2NF(ColourID),\n",
    "           PRIMARY KEY (RegistryID));\n"
   ]
  },
  {
   "cell_type": "code",
   "execution_count": 5,
   "metadata": {},
   "outputs": [
    {
     "name": "stdout",
     "output_type": "stream",
     "text": [
      " * sqlite:///bhejane.db\n",
      "395 rows affected.\n"
     ]
    },
    {
     "data": {
      "text/plain": [
       "[]"
      ]
     },
     "execution_count": 5,
     "metadata": {},
     "output_type": "execute_result"
    }
   ],
   "source": [
    "%%sql \n",
    "\n",
    "INSERT INTO Navigation_2NF (NavigationPath)\n",
    "    SELECT DISTINCT NavigationPath\n",
    "    FROM Products_1NF\n",
    "    WHERE NavigationPath != ''\n",
    "    Order BY rowid;"
   ]
  },
  {
   "cell_type": "code",
   "execution_count": 6,
   "metadata": {},
   "outputs": [
    {
     "name": "stdout",
     "output_type": "stream",
     "text": [
      " * sqlite:///bhejane.db\n",
      "600 rows affected.\n"
     ]
    },
    {
     "data": {
      "text/plain": [
       "[]"
      ]
     },
     "execution_count": 6,
     "metadata": {},
     "output_type": "execute_result"
    }
   ],
   "source": [
    "%%sql \n",
    "\n",
    "INSERT INTO PackageContents_2NF(ItemDescription, PackType, Warranty)\n",
    "    SELECT DISTINCT ItemDescription, PackType, Warranty\n",
    "    FROM Products_1NF\n",
    "    WHERE ItemDescription != ''\n",
    "    ORDER BY rowid;"
   ]
  },
  {
   "cell_type": "code",
   "execution_count": 7,
   "metadata": {},
   "outputs": [
    {
     "name": "stdout",
     "output_type": "stream",
     "text": [
      " * sqlite:///bhejane.db\n",
      "17 rows affected.\n"
     ]
    },
    {
     "data": {
      "text/plain": [
       "[]"
      ]
     },
     "execution_count": 7,
     "metadata": {},
     "output_type": "execute_result"
    }
   ],
   "source": [
    "%%sql \n",
    "\n",
    "INSERT INTO Colours_2NF (Colour)\n",
    "    SELECT DISTINCT Colour\n",
    "    FROM Products_1NF\n",
    "    WHERE Colour != ''\n",
    "    ORDER BY rowid;\n"
   ]
  },
  {
   "cell_type": "code",
   "execution_count": 8,
   "metadata": {},
   "outputs": [
    {
     "name": "stdout",
     "output_type": "stream",
     "text": [
      " * sqlite:///bhejane.db\n",
      "1214 rows affected.\n"
     ]
    },
    {
     "data": {
      "text/plain": [
       "[]"
      ]
     },
     "execution_count": 8,
     "metadata": {},
     "output_type": "execute_result"
    }
   ],
   "source": [
    "%%sql \n",
    "\n",
    "INSERT INTO Products_2NF (Barcode,ProductDescription, Brand, Price, Quantity, StockCountry, Weight_kg, Volume_litre, Length, Width, Height, PathID, ItemID, ColourID)\n",
    "SELECT Barcode,ProductDescription, Brand, Price, Quantity, StockCountry, Weight_kg, Volume_litre, Length, Width, Height, PathID, ItemID, ColourID\n",
    "         FROM Products_1NF as P1\n",
    "         LEFT JOIN Navigation_2NF AS N2 ON N2.NavigationPath = P1.NavigationPath\n",
    "        LEFT JOIN PackageContents_2NF AS PC2 ON PC2.ItemDescription = P1.ItemDescription\n",
    "        LEFT JOIN Colours_2NF AS c2 ON C2.Colour = P1.Colour;"
   ]
  },
  {
   "cell_type": "code",
   "execution_count": 9,
   "metadata": {},
   "outputs": [
    {
     "name": "stdout",
     "output_type": "stream",
     "text": [
      " * sqlite:///bhejane.db\n",
      "Done.\n"
     ]
    },
    {
     "data": {
      "text/html": [
       "<table>\n",
       "    <tr>\n",
       "        <th>type</th>\n",
       "        <th>name</th>\n",
       "        <th>tbl_name</th>\n",
       "        <th>rootpage</th>\n",
       "        <th>sql</th>\n",
       "    </tr>\n",
       "    <tr>\n",
       "        <td>table</td>\n",
       "        <td>Products_1NF</td>\n",
       "        <td>Products_1NF</td>\n",
       "        <td>68</td>\n",
       "        <td>CREATE TABLE Products_1NF (<br>            Barcode VARCHAR(150) NOT NULL,<br>            NavigationPath VARCHAR(150) NOT NULL,<br>            ItemDescription VARCHAR(150) NOT NULL,<br>            ProductDescription VARCHAR(150) NOT NULL,<br>            Brand VARCHAR(150),<br>            Price REAL NOT NULL,<br>            Quantity INTEGER NOT NULL,<br>            PackType VARCHAR(150),<br>            Warranty VARCHAR(150),<br>            StockCountry VARCHAR(150),<br>            Colour VARCHAR(150),<br>            Weight_kg REAL,<br>            Volume_litre REAL,<br>            Length REAL,<br>            Width REAL,<br>            Height REAL,<br>            PRIMARY KEY (Barcode, NavigationPath, ItemDescription))</td>\n",
       "    </tr>\n",
       "    <tr>\n",
       "        <td>index</td>\n",
       "        <td>sqlite_autoindex_Products_1NF_1</td>\n",
       "        <td>Products_1NF</td>\n",
       "        <td>69</td>\n",
       "        <td>None</td>\n",
       "    </tr>\n",
       "    <tr>\n",
       "        <td>table</td>\n",
       "        <td>Transactions_2NF</td>\n",
       "        <td>Transactions_2NF</td>\n",
       "        <td>70</td>\n",
       "        <td>CREATE TABLE &quot;Transactions_2NF&quot; (<br>            CartID INTEGER NOT NULL,<br>            Barcode VARCHAR(150) NOT NULL,<br>            UserName VARCHAR(150) NOT NULL,<br>            InvoiceDate DATETIME NOT NULL,<br>            Total REAL NOT NULL,<br>            PRIMARY KEY (CartID, Barcode))</td>\n",
       "    </tr>\n",
       "    <tr>\n",
       "        <td>index</td>\n",
       "        <td>sqlite_autoindex_Transactions_2NF_1</td>\n",
       "        <td>Transactions_2NF</td>\n",
       "        <td>71</td>\n",
       "        <td>None</td>\n",
       "    </tr>\n",
       "    <tr>\n",
       "        <td>table</td>\n",
       "        <td>Navigation_2NF</td>\n",
       "        <td>Navigation_2NF</td>\n",
       "        <td>2</td>\n",
       "        <td>CREATE TABLE Navigation_2NF(<br>            PathID INTEGER NOT NULL,<br>            NavigationPath VARCHAR(150),<br>            PRIMARY KEY (PathID))</td>\n",
       "    </tr>\n",
       "    <tr>\n",
       "        <td>table</td>\n",
       "        <td>PackageContents_2NF</td>\n",
       "        <td>PackageContents_2NF</td>\n",
       "        <td>3</td>\n",
       "        <td>CREATE TABLE PackageContents_2NF(<br>            ItemID INTEGER NOT NULL,<br>            ItemDescription VARCHAR(150),<br>            PackType VARCHAR(150),<br>            Warranty VARCHAR(150),<br>            PRIMARY KEY (ItemID))</td>\n",
       "    </tr>\n",
       "    <tr>\n",
       "        <td>table</td>\n",
       "        <td>Colours_2NF</td>\n",
       "        <td>Colours_2NF</td>\n",
       "        <td>5</td>\n",
       "        <td>CREATE TABLE Colours_2NF(<br>            ColourID INTEGER NOT NULL,<br>            Colour VARCHAR(150),<br>            PRIMARY KEY (ColourID))</td>\n",
       "    </tr>\n",
       "    <tr>\n",
       "        <td>table</td>\n",
       "        <td>Products_2NF</td>\n",
       "        <td>Products_2NF</td>\n",
       "        <td>6</td>\n",
       "        <td>CREATE TABLE Products_2NF (<br>            RegistryID INTEGER NOT NULL, <br>            Barcode VARCHAR(150) NOT NULL REFERENCES Transactions_2NF(Barcode),<br>            ProductDescription VARCHAR(150) NOT NULL,<br>            Brand VARCHAR(150),<br>            Price REAL NOT NULL,<br>            Quantity INTEGER NOT NULL,<br>            StockCountry VARCHAR(150),<br>            Weight_kg REAL,<br>            Volume_litre REAL,<br>            Length REAL,<br>            Width REAL,<br>            Height REAL,<br>            PathID INTEGER REFERENCES Navigation_2NF(PathID),<br>            ItemID INTEGER REFERENCES PackageContents_2NF(ItemID),<br>           ColourID INTEGER REFERENCES Colours_2NF(ColourID),<br>           PRIMARY KEY (RegistryID))</td>\n",
       "    </tr>\n",
       "</table>"
      ],
      "text/plain": [
       "[('table', 'Products_1NF', 'Products_1NF', 68, 'CREATE TABLE Products_1NF (\\n            Barcode VARCHAR(150) NOT NULL,\\n            NavigationPath VARCHAR(150) NOT NULL,\\n            ItemDescripti ... (391 characters truncated) ... AL,\\n            Length REAL,\\n            Width REAL,\\n            Height REAL,\\n            PRIMARY KEY (Barcode, NavigationPath, ItemDescription))'),\n",
       " ('index', 'sqlite_autoindex_Products_1NF_1', 'Products_1NF', 69, None),\n",
       " ('table', 'Transactions_2NF', 'Transactions_2NF', 70, 'CREATE TABLE \"Transactions_2NF\" (\\n            CartID INTEGER NOT NULL,\\n            Barcode VARCHAR(150) NOT NULL,\\n            UserName VARCHAR(150) NOT NULL,\\n            InvoiceDate DATETIME NOT NULL,\\n            Total REAL NOT NULL,\\n            PRIMARY KEY (CartID, Barcode))'),\n",
       " ('index', 'sqlite_autoindex_Transactions_2NF_1', 'Transactions_2NF', 71, None),\n",
       " ('table', 'Navigation_2NF', 'Navigation_2NF', 2, 'CREATE TABLE Navigation_2NF(\\n            PathID INTEGER NOT NULL,\\n            NavigationPath VARCHAR(150),\\n            PRIMARY KEY (PathID))'),\n",
       " ('table', 'PackageContents_2NF', 'PackageContents_2NF', 3, 'CREATE TABLE PackageContents_2NF(\\n            ItemID INTEGER NOT NULL,\\n            ItemDescription VARCHAR(150),\\n            PackType VARCHAR(150),\\n            Warranty VARCHAR(150),\\n            PRIMARY KEY (ItemID))'),\n",
       " ('table', 'Colours_2NF', 'Colours_2NF', 5, 'CREATE TABLE Colours_2NF(\\n            ColourID INTEGER NOT NULL,\\n            Colour VARCHAR(150),\\n            PRIMARY KEY (ColourID))'),\n",
       " ('table', 'Products_2NF', 'Products_2NF', 6, 'CREATE TABLE Products_2NF (\\n            RegistryID INTEGER NOT NULL, \\n            Barcode VARCHAR(150) NOT NULL REFERENCES Transactions_2NF(Barcode ... (425 characters truncated) ...  INTEGER REFERENCES PackageContents_2NF(ItemID),\\n           ColourID INTEGER REFERENCES Colours_2NF(ColourID),\\n           PRIMARY KEY (RegistryID))')]"
      ]
     },
     "execution_count": 9,
     "metadata": {},
     "output_type": "execute_result"
    }
   ],
   "source": [
    "%%sql \n",
    "\n",
    "SELECT * FROM sqlite_master"
   ]
  },
  {
   "cell_type": "code",
   "execution_count": 10,
   "metadata": {},
   "outputs": [
    {
     "name": "stdout",
     "output_type": "stream",
     "text": [
      " * sqlite:///bhejane.db\n",
      "Done.\n"
     ]
    },
    {
     "data": {
      "text/html": [
       "<table>\n",
       "    <tr>\n",
       "        <th>COUNT(DISTINCT Barcode)</th>\n",
       "    </tr>\n",
       "    <tr>\n",
       "        <td>608</td>\n",
       "    </tr>\n",
       "</table>"
      ],
      "text/plain": [
       "[(608,)]"
      ]
     },
     "execution_count": 10,
     "metadata": {},
     "output_type": "execute_result"
    }
   ],
   "source": [
    "%%sql \n",
    "\n",
    "SELECT COUNT(DISTINCT Barcode)\n",
    "FROM Products_2NF"
   ]
  },
  {
   "cell_type": "code",
   "execution_count": 11,
   "metadata": {},
   "outputs": [
    {
     "name": "stdout",
     "output_type": "stream",
     "text": [
      " * sqlite:///bhejane.db\n",
      "Done.\n"
     ]
    },
    {
     "data": {
      "text/plain": [
       "[]"
      ]
     },
     "execution_count": 11,
     "metadata": {},
     "output_type": "execute_result"
    }
   ],
   "source": [
    "%%sql \n",
    "\n",
    "DROP TABLE Products_1NF;"
   ]
  },
  {
   "cell_type": "code",
   "execution_count": 14,
   "metadata": {},
   "outputs": [
    {
     "name": "stdout",
     "output_type": "stream",
     "text": [
      " * sqlite:///bhejane.db\n",
      "Done.\n"
     ]
    },
    {
     "data": {
      "text/html": [
       "<table>\n",
       "    <tr>\n",
       "        <th>COUNT (Distinct CartID)</th>\n",
       "    </tr>\n",
       "    <tr>\n",
       "        <td>192</td>\n",
       "    </tr>\n",
       "</table>"
      ],
      "text/plain": [
       "[(192,)]"
      ]
     },
     "execution_count": 14,
     "metadata": {},
     "output_type": "execute_result"
    }
   ],
   "source": [
    "%%sql \n",
    "\n",
    "SELECT COUNT (Distinct CartID)\n",
    "FROM\n",
    "Transactions_2NF"
   ]
  },
  {
   "cell_type": "code",
   "execution_count": null,
   "metadata": {},
   "outputs": [],
   "source": []
  }
 ],
 "metadata": {
  "kernelspec": {
   "display_name": "Python 3",
   "language": "python",
   "name": "python3"
  },
  "language_info": {
   "codemirror_mode": {
    "name": "ipython",
    "version": 3
   },
   "file_extension": ".py",
   "mimetype": "text/x-python",
   "name": "python",
   "nbconvert_exporter": "python",
   "pygments_lexer": "ipython3",
   "version": "3.8.5"
  }
 },
 "nbformat": 4,
 "nbformat_minor": 4
}
