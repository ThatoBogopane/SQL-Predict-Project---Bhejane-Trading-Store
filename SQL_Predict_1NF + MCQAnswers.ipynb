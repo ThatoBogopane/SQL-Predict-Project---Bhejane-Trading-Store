{
 "cells": [
  {
   "cell_type": "markdown",
   "metadata": {
    "id": "kJ9OEzDBgwvw"
   },
   "source": [
    "# SQL 4 Data Science: Predict Project\n",
    "## Bhejane Online Trading Store\n",
    "\n",
    "### Student Starter Notebook\n",
    "\n",
    "© Explore Data Science Academy\n",
    "\n",
    "### Honour Code\n",
    "\n",
    "I {**YOUR NAME**, **YOUR SURNAME**}, confirm - by submitting this document - that the solutions in this notebook are a result of my own work and that I abide by the EDSA honour code (https://drive.google.com/file/d/1QDCjGZJ8-FmJE3bZdIQNwnJyQKPhHZBn/view?usp=sharing).\n",
    "\n",
    "Non-compliance with the honour code constitutes a material breach of contract."
   ]
  },
  {
   "cell_type": "markdown",
   "metadata": {
    "id": "p40FILKTgwvy"
   },
   "source": [
    "<a id='Context'></a>\n",
    "### 1. Context\n",
    "\n",
    "<div align=\"center\" style=\"width: 600px; font-size: 80%; text-align: center; margin: 0 auto\">\n",
    "<img src=\"https://raw.githubusercontent.com/Explore-AI/Pictures/master/Bhejane_large.jpg\"\n",
    "     alt=\"The Black Rhino\"\n",
    "     style=\"float: center; padding-bottom=0.5em\"\n",
    "     width=600px/>\n",
    "     Bhejane, or the Black Rhino. Image by <a href=\"https://commons.wikimedia.org/wiki/File:Black_Rhino_(Diceros_bicornis)_browsing_..._(46584052962).jpg\">Wikimedia Commons</a>\n",
    "</div>\n",
    "\n",
    "\n",
    "The Bhejane trading store is an online retailer specialising in Covid essesstial items. The store has recently be struggling with the management of its database-related inventory system. Luckily for them, you've been hired as a consultant to fix the problem. \n",
    "\n",
    "Its time to flex your Ninja SQL skills! \n",
    " \n",
    "**Your mission, should you choose to accept it:**\n",
    "\n",
    "You will receive a denormalised database consisting of two tables. Your task is to transform the database such that is in third normal form (3NF). To ensure that a consistent normalisation process is followed by each student, we have attached an Entity Relationship Diagram (ERD) which is a guideline on what tables need to be produced. Once you have normalised the databasse, you will be required to complete an MCQ test found under the 'Predict' tab of Athena.  "
   ]
  },
  {
   "cell_type": "markdown",
   "metadata": {
    "id": "4hrluJ8Fgwvz"
   },
   "source": [
    "<a id='Imports'></a>\n",
    "### 2. Imports\n",
    "Please use the below command to install sql_magic, this is the package that will assist you with SQL syntax hightlighting.\n",
    "* pip install sql_magic\n",
    "\n",
    "Remember to start each new cell with \" %%read_sql \""
   ]
  },
  {
   "cell_type": "code",
   "execution_count": 1,
   "metadata": {},
   "outputs": [
    {
     "name": "stdout",
     "output_type": "stream",
     "text": [
      "Requirement already satisfied: sql_magic in c:\\users\\bonol\\anaconda3\\lib\\site-packages (0.0.4)\n",
      "Requirement already satisfied: findspark in c:\\users\\bonol\\anaconda3\\lib\\site-packages (from sql_magic) (1.4.2)\n",
      "Requirement already satisfied: jupyter in c:\\users\\bonol\\anaconda3\\lib\\site-packages (from sql_magic) (1.0.0)\n",
      "Requirement already satisfied: ipython in c:\\users\\bonol\\anaconda3\\lib\\site-packages (from sql_magic) (7.19.0)\n",
      "Requirement already satisfied: traitlets in c:\\users\\bonol\\anaconda3\\lib\\site-packages (from sql_magic) (5.0.5)\n",
      "Requirement already satisfied: sqlparse in c:\\users\\bonol\\anaconda3\\lib\\site-packages (from sql_magic) (0.4.1)\n",
      "Requirement already satisfied: pandas in c:\\users\\bonol\\anaconda3\\lib\\site-packages (from sql_magic) (1.1.3)\n",
      "Requirement already satisfied: ipywidgets in c:\\users\\bonol\\anaconda3\\lib\\site-packages (from jupyter->sql_magic) (7.5.1)\n",
      "Requirement already satisfied: ipykernel in c:\\users\\bonol\\anaconda3\\lib\\site-packages (from jupyter->sql_magic) (5.5.0)\n",
      "Requirement already satisfied: notebook in c:\\users\\bonol\\anaconda3\\lib\\site-packages (from jupyter->sql_magic) (6.1.4)\n",
      "Requirement already satisfied: qtconsole in c:\\users\\bonol\\anaconda3\\lib\\site-packages (from jupyter->sql_magic) (4.7.7)\n",
      "Requirement already satisfied: nbconvert in c:\\users\\bonol\\anaconda3\\lib\\site-packages (from jupyter->sql_magic) (6.0.7)\n",
      "Requirement already satisfied: jupyter-console in c:\\users\\bonol\\anaconda3\\lib\\site-packages (from jupyter->sql_magic) (6.2.0)\n",
      "Requirement already satisfied: decorator in c:\\users\\bonol\\anaconda3\\lib\\site-packages (from ipython->sql_magic) (4.4.2)\n",
      "Requirement already satisfied: jedi>=0.10 in c:\\users\\bonol\\anaconda3\\lib\\site-packages (from ipython->sql_magic) (0.17.1)\n",
      "Requirement already satisfied: backcall in c:\\users\\bonol\\anaconda3\\lib\\site-packages (from ipython->sql_magic) (0.2.0)\n",
      "Requirement already satisfied: prompt-toolkit!=3.0.0,!=3.0.1,<3.1.0,>=2.0.0 in c:\\users\\bonol\\anaconda3\\lib\\site-packages (from ipython->sql_magic) (3.0.8)\n",
      "Requirement already satisfied: pickleshare in c:\\users\\bonol\\anaconda3\\lib\\site-packages (from ipython->sql_magic) (0.7.5)\n",
      "Requirement already satisfied: setuptools>=18.5 in c:\\users\\bonol\\anaconda3\\lib\\site-packages (from ipython->sql_magic) (50.3.1.post20201107)\n",
      "Requirement already satisfied: pygments in c:\\users\\bonol\\anaconda3\\lib\\site-packages (from ipython->sql_magic) (2.7.2)\n",
      "Requirement already satisfied: colorama; sys_platform == \"win32\" in c:\\users\\bonol\\anaconda3\\lib\\site-packages (from ipython->sql_magic) (0.4.4)\n",
      "Requirement already satisfied: ipython-genutils in c:\\users\\bonol\\anaconda3\\lib\\site-packages (from traitlets->sql_magic) (0.2.0)\n",
      "Requirement already satisfied: python-dateutil>=2.7.3 in c:\\users\\bonol\\anaconda3\\lib\\site-packages (from pandas->sql_magic) (2.8.1)\n",
      "Requirement already satisfied: numpy>=1.15.4 in c:\\users\\bonol\\anaconda3\\lib\\site-packages (from pandas->sql_magic) (1.19.2)\n",
      "Requirement already satisfied: pytz>=2017.2 in c:\\users\\bonol\\anaconda3\\lib\\site-packages (from pandas->sql_magic) (2020.1)\n",
      "Requirement already satisfied: nbformat>=4.2.0 in c:\\users\\bonol\\anaconda3\\lib\\site-packages (from ipywidgets->jupyter->sql_magic) (5.0.8)\n",
      "Requirement already satisfied: widgetsnbextension~=3.5.0 in c:\\users\\bonol\\anaconda3\\lib\\site-packages (from ipywidgets->jupyter->sql_magic) (3.5.1)\n",
      "Requirement already satisfied: jupyter-client in c:\\users\\bonol\\anaconda3\\lib\\site-packages (from ipykernel->jupyter->sql_magic) (6.1.7)\n",
      "Requirement already satisfied: tornado>=4.2 in c:\\users\\bonol\\anaconda3\\lib\\site-packages (from ipykernel->jupyter->sql_magic) (6.0.4)\n",
      "Requirement already satisfied: prometheus-client in c:\\users\\bonol\\anaconda3\\lib\\site-packages (from notebook->jupyter->sql_magic) (0.8.0)\n",
      "Requirement already satisfied: terminado>=0.8.3 in c:\\users\\bonol\\anaconda3\\lib\\site-packages (from notebook->jupyter->sql_magic) (0.9.1)\n",
      "Requirement already satisfied: Send2Trash in c:\\users\\bonol\\anaconda3\\lib\\site-packages (from notebook->jupyter->sql_magic) (1.5.0)\n",
      "Requirement already satisfied: jupyter-core>=4.6.1 in c:\\users\\bonol\\anaconda3\\lib\\site-packages (from notebook->jupyter->sql_magic) (4.6.3)\n",
      "Requirement already satisfied: jinja2 in c:\\users\\bonol\\anaconda3\\lib\\site-packages (from notebook->jupyter->sql_magic) (2.11.2)\n",
      "Requirement already satisfied: pyzmq>=17 in c:\\users\\bonol\\anaconda3\\lib\\site-packages (from notebook->jupyter->sql_magic) (19.0.2)\n",
      "Requirement already satisfied: argon2-cffi in c:\\users\\bonol\\anaconda3\\lib\\site-packages (from notebook->jupyter->sql_magic) (20.1.0)\n",
      "Requirement already satisfied: qtpy in c:\\users\\bonol\\anaconda3\\lib\\site-packages (from qtconsole->jupyter->sql_magic) (1.9.0)\n",
      "Requirement already satisfied: mistune<2,>=0.8.1 in c:\\users\\bonol\\anaconda3\\lib\\site-packages (from nbconvert->jupyter->sql_magic) (0.8.4)\n",
      "Requirement already satisfied: entrypoints>=0.2.2 in c:\\users\\bonol\\anaconda3\\lib\\site-packages (from nbconvert->jupyter->sql_magic) (0.3)\n",
      "Requirement already satisfied: jupyterlab-pygments in c:\\users\\bonol\\anaconda3\\lib\\site-packages (from nbconvert->jupyter->sql_magic) (0.1.2)\n",
      "Requirement already satisfied: bleach in c:\\users\\bonol\\anaconda3\\lib\\site-packages (from nbconvert->jupyter->sql_magic) (3.2.1)\n",
      "Requirement already satisfied: pandocfilters>=1.4.1 in c:\\users\\bonol\\anaconda3\\lib\\site-packages (from nbconvert->jupyter->sql_magic) (1.4.3)\n",
      "Requirement already satisfied: defusedxml in c:\\users\\bonol\\anaconda3\\lib\\site-packages (from nbconvert->jupyter->sql_magic) (0.6.0)\n",
      "Requirement already satisfied: nbclient<0.6.0,>=0.5.0 in c:\\users\\bonol\\anaconda3\\lib\\site-packages (from nbconvert->jupyter->sql_magic) (0.5.1)\n",
      "Requirement already satisfied: testpath in c:\\users\\bonol\\anaconda3\\lib\\site-packages (from nbconvert->jupyter->sql_magic) (0.4.4)\n",
      "Requirement already satisfied: parso<0.8.0,>=0.7.0 in c:\\users\\bonol\\anaconda3\\lib\\site-packages (from jedi>=0.10->ipython->sql_magic) (0.7.0)\n",
      "Requirement already satisfied: wcwidth in c:\\users\\bonol\\anaconda3\\lib\\site-packages (from prompt-toolkit!=3.0.0,!=3.0.1,<3.1.0,>=2.0.0->ipython->sql_magic) (0.2.5)\n",
      "Requirement already satisfied: six>=1.5 in c:\\users\\bonol\\anaconda3\\lib\\site-packages (from python-dateutil>=2.7.3->pandas->sql_magic) (1.15.0)\n",
      "Requirement already satisfied: jsonschema!=2.5.0,>=2.4 in c:\\users\\bonol\\anaconda3\\lib\\site-packages (from nbformat>=4.2.0->ipywidgets->jupyter->sql_magic) (3.2.0)\n",
      "Requirement already satisfied: pywinpty>=0.5 in c:\\users\\bonol\\anaconda3\\lib\\site-packages (from terminado>=0.8.3->notebook->jupyter->sql_magic) (0.5.7)Note: you may need to restart the kernel to use updated packages.\n",
      "Requirement already satisfied: pywin32>=1.0; sys_platform == \"win32\" in c:\\users\\bonol\\anaconda3\\lib\\site-packages (from jupyter-core>=4.6.1->notebook->jupyter->sql_magic) (227)\n",
      "Requirement already satisfied: MarkupSafe>=0.23 in c:\\users\\bonol\\anaconda3\\lib\\site-packages (from jinja2->notebook->jupyter->sql_magic) (1.1.1)\n",
      "Requirement already satisfied: cffi>=1.0.0 in c:\\users\\bonol\\anaconda3\\lib\\site-packages (from argon2-cffi->notebook->jupyter->sql_magic) (1.14.3)\n",
      "Requirement already satisfied: packaging in c:\\users\\bonol\\anaconda3\\lib\\site-packages (from bleach->nbconvert->jupyter->sql_magic) (20.4)\n",
      "Requirement already satisfied: webencodings in c:\\users\\bonol\\anaconda3\\lib\\site-packages (from bleach->nbconvert->jupyter->sql_magic) (0.5.1)\n",
      "Requirement already satisfied: nest-asyncio in c:\\users\\bonol\\anaconda3\\lib\\site-packages (from nbclient<0.6.0,>=0.5.0->nbconvert->jupyter->sql_magic) (1.4.2)\n",
      "Requirement already satisfied: async-generator in c:\\users\\bonol\\anaconda3\\lib\\site-packages (from nbclient<0.6.0,>=0.5.0->nbconvert->jupyter->sql_magic) (1.10)\n",
      "Requirement already satisfied: pyrsistent>=0.14.0 in c:\\users\\bonol\\anaconda3\\lib\\site-packages (from jsonschema!=2.5.0,>=2.4->nbformat>=4.2.0->ipywidgets->jupyter->sql_magic) (0.17.3)\n",
      "Requirement already satisfied: attrs>=17.4.0 in c:\\users\\bonol\\anaconda3\\lib\\site-packages (from jsonschema!=2.5.0,>=2.4->nbformat>=4.2.0->ipywidgets->jupyter->sql_magic) (20.3.0)\n",
      "Requirement already satisfied: pycparser in c:\\users\\bonol\\anaconda3\\lib\\site-packages (from cffi>=1.0.0->argon2-cffi->notebook->jupyter->sql_magic) (2.20)\n",
      "Requirement already satisfied: pyparsing>=2.0.2 in c:\\users\\bonol\\anaconda3\\lib\\site-packages (from packaging->bleach->nbconvert->jupyter->sql_magic) (2.4.7)\n",
      "\n"
     ]
    }
   ],
   "source": [
    "pip install sql_magic"
   ]
  },
  {
   "cell_type": "code",
   "execution_count": 3,
   "metadata": {},
   "outputs": [
    {
     "name": "stdout",
     "output_type": "stream",
     "text": [
      "Requirement already up-to-date: ipykernel in c:\\users\\bonol\\anaconda3\\lib\\site-packages (5.5.0)\n",
      "Requirement already satisfied, skipping upgrade: ipython>=5.0.0 in c:\\users\\bonol\\anaconda3\\lib\\site-packages (from ipykernel) (7.19.0)\n",
      "Requirement already satisfied, skipping upgrade: traitlets>=4.1.0 in c:\\users\\bonol\\anaconda3\\lib\\site-packages (from ipykernel) (5.0.5)\n",
      "Requirement already satisfied, skipping upgrade: tornado>=4.2 in c:\\users\\bonol\\anaconda3\\lib\\site-packages (from ipykernel) (6.0.4)\n",
      "Requirement already satisfied, skipping upgrade: jupyter-client in c:\\users\\bonol\\anaconda3\\lib\\site-packages (from ipykernel) (6.1.7)\n",
      "Requirement already satisfied, skipping upgrade: colorama; sys_platform == \"win32\" in c:\\users\\bonol\\anaconda3\\lib\\site-packages (from ipython>=5.0.0->ipykernel) (0.4.4)\n",
      "Requirement already satisfied, skipping upgrade: jedi>=0.10 in c:\\users\\bonol\\anaconda3\\lib\\site-packages (from ipython>=5.0.0->ipykernel) (0.17.1)\n",
      "Requirement already satisfied, skipping upgrade: pickleshare in c:\\users\\bonol\\anaconda3\\lib\\site-packages (from ipython>=5.0.0->ipykernel) (0.7.5)\n",
      "Requirement already satisfied, skipping upgrade: prompt-toolkit!=3.0.0,!=3.0.1,<3.1.0,>=2.0.0 in c:\\users\\bonol\\anaconda3\\lib\\site-packages (from ipython>=5.0.0->ipykernel) (3.0.8)\n",
      "Requirement already satisfied, skipping upgrade: pygments in c:\\users\\bonol\\anaconda3\\lib\\site-packages (from ipython>=5.0.0->ipykernel) (2.7.2)\n",
      "Requirement already satisfied, skipping upgrade: setuptools>=18.5 in c:\\users\\bonol\\anaconda3\\lib\\site-packages (from ipython>=5.0.0->ipykernel) (50.3.1.post20201107)\n",
      "Requirement already satisfied, skipping upgrade: backcall in c:\\users\\bonol\\anaconda3\\lib\\site-packages (from ipython>=5.0.0->ipykernel) (0.2.0)\n",
      "Requirement already satisfied, skipping upgrade: decorator in c:\\users\\bonol\\anaconda3\\lib\\site-packages (from ipython>=5.0.0->ipykernel) (4.4.2)\n",
      "Requirement already satisfied, skipping upgrade: ipython-genutils in c:\\users\\bonol\\anaconda3\\lib\\site-packages (from traitlets>=4.1.0->ipykernel) (0.2.0)\n",
      "Requirement already satisfied, skipping upgrade: python-dateutil>=2.1 in c:\\users\\bonol\\anaconda3\\lib\\site-packages (from jupyter-client->ipykernel) (2.8.1)\n",
      "Requirement already satisfied, skipping upgrade: jupyter-core>=4.6.0 in c:\\users\\bonol\\anaconda3\\lib\\site-packages (from jupyter-client->ipykernel) (4.6.3)\n",
      "Requirement already satisfied, skipping upgrade: pyzmq>=13 in c:\\users\\bonol\\anaconda3\\lib\\site-packages (from jupyter-client->ipykernel) (19.0.2)\n",
      "Requirement already satisfied, skipping upgrade: parso<0.8.0,>=0.7.0 in c:\\users\\bonol\\anaconda3\\lib\\site-packages (from jedi>=0.10->ipython>=5.0.0->ipykernel) (0.7.0)\n",
      "Requirement already satisfied, skipping upgrade: wcwidth in c:\\users\\bonol\\anaconda3\\lib\\site-packages (from prompt-toolkit!=3.0.0,!=3.0.1,<3.1.0,>=2.0.0->ipython>=5.0.0->ipykernel) (0.2.5)\n",
      "Requirement already satisfied, skipping upgrade: six>=1.5 in c:\\users\\bonol\\anaconda3\\lib\\site-packages (from python-dateutil>=2.1->jupyter-client->ipykernel) (1.15.0)\n",
      "Requirement already satisfied, skipping upgrade: pywin32>=1.0; sys_platform == \"win32\" in c:\\users\\bonol\\anaconda3\\lib\\site-packages (from jupyter-core>=4.6.0->jupyter-client->ipykernel) (227)\n",
      "Note: you may need to restart the kernel to use updated packages.\n"
     ]
    }
   ],
   "source": [
    "pip install --upgrade ipykernel"
   ]
  },
  {
   "cell_type": "code",
   "execution_count": 1,
   "metadata": {
    "id": "v_6LpuJDgwvz"
   },
   "outputs": [
    {
     "data": {
      "application/javascript": [
       "\n",
       "    require(['notebook/js/codecell'], function(codecell) {\n",
       "      // https://github.com/jupyter/notebook/issues/2453\n",
       "      codecell.CodeCell.options_default.highlight_modes['magic_text/x-sql'] = {'reg':[/^%read_sql/, /.*=\\s*%read_sql/,\n",
       "                                                                                      /^%%read_sql/]};\n",
       "      Jupyter.notebook.events.one('kernel_ready.Kernel', function(){\n",
       "          console.log('BBBBB');\n",
       "          Jupyter.notebook.get_cells().map(function(cell){\n",
       "              if (cell.cell_type == 'code'){ cell.auto_highlight(); } }) ;\n",
       "      });\n",
       "    });\n",
       "    "
      ]
     },
     "metadata": {},
     "output_type": "display_data"
    }
   ],
   "source": [
    "# DO NOT EDIT THIS CELL\n",
    "import sqlite3\n",
    "import csv\n",
    "from sqlalchemy import create_engine\n",
    "%load_ext sql_magic\n",
    "\n",
    "# Load SQLite database\n",
    "engine  = create_engine(\"sqlite:///bhejane.db\")\n",
    "%config SQL.conn_name ='engine'"
   ]
  },
  {
   "cell_type": "markdown",
   "metadata": {
    "id": "tI8p4seXgwv3"
   },
   "source": [
    "<a id='Data_description'></a>\n",
    "### 3. Data description\n",
    "\n",
    "The original database consist of 2 tables. \n",
    "* Product Table\n",
    "* Transaction Table"
   ]
  },
  {
   "cell_type": "code",
   "execution_count": 2,
   "metadata": {
    "id": "oTb59N4Dgwv4",
    "outputId": "694a9594-2141-47a1-ad6e-f85c2571c355"
   },
   "outputs": [
    {
     "data": {
      "text/html": [
       "<div>\n",
       "<style scoped>\n",
       "    .dataframe tbody tr th:only-of-type {\n",
       "        vertical-align: middle;\n",
       "    }\n",
       "\n",
       "    .dataframe tbody tr th {\n",
       "        vertical-align: top;\n",
       "    }\n",
       "\n",
       "    .dataframe thead th {\n",
       "        text-align: right;\n",
       "    }\n",
       "</style>\n",
       "<table border=\"1\" class=\"dataframe\">\n",
       "  <thead>\n",
       "    <tr style=\"text-align: right;\">\n",
       "      <th></th>\n",
       "      <th>Table Name</th>\n",
       "      <th>Column Name</th>\n",
       "      <th>Desciption</th>\n",
       "    </tr>\n",
       "  </thead>\n",
       "  <tbody>\n",
       "    <tr>\n",
       "      <th>0</th>\n",
       "      <td>Products</td>\n",
       "      <td>Width</td>\n",
       "      <td>Width of the product once assembled</td>\n",
       "    </tr>\n",
       "    <tr>\n",
       "      <th>1</th>\n",
       "      <td>Products</td>\n",
       "      <td>Length</td>\n",
       "      <td>Length of the product once assembled</td>\n",
       "    </tr>\n",
       "    <tr>\n",
       "      <th>2</th>\n",
       "      <td>Products</td>\n",
       "      <td>Height</td>\n",
       "      <td>Height of the product once assembled</td>\n",
       "    </tr>\n",
       "    <tr>\n",
       "      <th>3</th>\n",
       "      <td>Products</td>\n",
       "      <td>Barcode</td>\n",
       "      <td>The unique product identifier</td>\n",
       "    </tr>\n",
       "    <tr>\n",
       "      <th>4</th>\n",
       "      <td>Products</td>\n",
       "      <td>Quantity</td>\n",
       "      <td>Number of goods in stock</td>\n",
       "    </tr>\n",
       "    <tr>\n",
       "      <th>5</th>\n",
       "      <td>Products</td>\n",
       "      <td>Brand</td>\n",
       "      <td>Product brand name relating to product company</td>\n",
       "    </tr>\n",
       "    <tr>\n",
       "      <th>6</th>\n",
       "      <td>Products</td>\n",
       "      <td>NavigationPath</td>\n",
       "      <td>Navigation path to specific product</td>\n",
       "    </tr>\n",
       "    <tr>\n",
       "      <th>7</th>\n",
       "      <td>Products</td>\n",
       "      <td>Colour</td>\n",
       "      <td>Name default colour for the product</td>\n",
       "    </tr>\n",
       "    <tr>\n",
       "      <th>8</th>\n",
       "      <td>Products</td>\n",
       "      <td>StockCountry</td>\n",
       "      <td>Country where the stock was bought from</td>\n",
       "    </tr>\n",
       "    <tr>\n",
       "      <th>9</th>\n",
       "      <td>Products</td>\n",
       "      <td>ProductDescription</td>\n",
       "      <td>Descriptive product name</td>\n",
       "    </tr>\n",
       "    <tr>\n",
       "      <th>10</th>\n",
       "      <td>Products</td>\n",
       "      <td>PackType</td>\n",
       "      <td>The way in which the product is packaged</td>\n",
       "    </tr>\n",
       "    <tr>\n",
       "      <th>11</th>\n",
       "      <td>Products</td>\n",
       "      <td>Volume_litre</td>\n",
       "      <td>The quantity of liquid based products</td>\n",
       "    </tr>\n",
       "    <tr>\n",
       "      <th>12</th>\n",
       "      <td>Products</td>\n",
       "      <td>Warranty</td>\n",
       "      <td>Product warranty type</td>\n",
       "    </tr>\n",
       "    <tr>\n",
       "      <th>13</th>\n",
       "      <td>Products</td>\n",
       "      <td>Weight_kg</td>\n",
       "      <td>Weight of the product</td>\n",
       "    </tr>\n",
       "    <tr>\n",
       "      <th>14</th>\n",
       "      <td>Products</td>\n",
       "      <td>ItemDescription</td>\n",
       "      <td>Description of contents of the package</td>\n",
       "    </tr>\n",
       "    <tr>\n",
       "      <th>15</th>\n",
       "      <td>Products</td>\n",
       "      <td>Price</td>\n",
       "      <td>The cost of the product in Rands</td>\n",
       "    </tr>\n",
       "    <tr>\n",
       "      <th>16</th>\n",
       "      <td>Transactions</td>\n",
       "      <td>CartID</td>\n",
       "      <td>Identifies an individual basket from a user pu...</td>\n",
       "    </tr>\n",
       "    <tr>\n",
       "      <th>17</th>\n",
       "      <td>Transactions</td>\n",
       "      <td>Barcode</td>\n",
       "      <td>Barcode for item that user purchased</td>\n",
       "    </tr>\n",
       "    <tr>\n",
       "      <th>18</th>\n",
       "      <td>Transactions</td>\n",
       "      <td>Total</td>\n",
       "      <td>Total value of a transaction</td>\n",
       "    </tr>\n",
       "    <tr>\n",
       "      <th>19</th>\n",
       "      <td>Transactions</td>\n",
       "      <td>UserName</td>\n",
       "      <td>Name of customer purchasing stock</td>\n",
       "    </tr>\n",
       "    <tr>\n",
       "      <th>20</th>\n",
       "      <td>Transactions</td>\n",
       "      <td>InvoiceDate</td>\n",
       "      <td>Date on which the product was bought</td>\n",
       "    </tr>\n",
       "  </tbody>\n",
       "</table>\n",
       "</div>"
      ],
      "text/plain": [
       "      Table Name         Column Name  \\\n",
       "0       Products               Width   \n",
       "1       Products              Length   \n",
       "2       Products              Height   \n",
       "3       Products             Barcode   \n",
       "4       Products            Quantity   \n",
       "5       Products               Brand   \n",
       "6       Products      NavigationPath   \n",
       "7       Products              Colour   \n",
       "8       Products        StockCountry   \n",
       "9       Products  ProductDescription   \n",
       "10      Products            PackType   \n",
       "11      Products        Volume_litre   \n",
       "12      Products            Warranty   \n",
       "13      Products           Weight_kg   \n",
       "14      Products     ItemDescription   \n",
       "15      Products               Price   \n",
       "16  Transactions              CartID   \n",
       "17  Transactions             Barcode   \n",
       "18  Transactions               Total   \n",
       "19  Transactions            UserName   \n",
       "20  Transactions         InvoiceDate   \n",
       "\n",
       "                                          Desciption   \n",
       "0                 Width of the product once assembled  \n",
       "1                Length of the product once assembled  \n",
       "2                Height of the product once assembled  \n",
       "3                      The unique product identifier   \n",
       "4                            Number of goods in stock  \n",
       "5      Product brand name relating to product company  \n",
       "6                 Navigation path to specific product  \n",
       "7                 Name default colour for the product  \n",
       "8             Country where the stock was bought from  \n",
       "9                            Descriptive product name  \n",
       "10           The way in which the product is packaged  \n",
       "11              The quantity of liquid based products  \n",
       "12                              Product warranty type  \n",
       "13                              Weight of the product  \n",
       "14            Description of contents of the package   \n",
       "15                   The cost of the product in Rands  \n",
       "16  Identifies an individual basket from a user pu...  \n",
       "17               Barcode for item that user purchased  \n",
       "18                      Total value of a transaction   \n",
       "19                  Name of customer purchasing stock  \n",
       "20               Date on which the product was bought  "
      ]
     },
     "execution_count": 2,
     "metadata": {},
     "output_type": "execute_result"
    }
   ],
   "source": [
    "# DO NOT EDIT THIS CELL\n",
    "import pandas as pd\n",
    "data_description = pd.read_excel('Data Description.xlsx')\n",
    "data_description"
   ]
  },
  {
   "cell_type": "markdown",
   "metadata": {
    "id": "bZd01SEagwv7"
   },
   "source": [
    "<a id='Setting_up'></a>\n",
    "### 4. Setting up the database"
   ]
  },
  {
   "cell_type": "code",
   "execution_count": 3,
   "metadata": {},
   "outputs": [],
   "source": [
    "#DO NOT EDIT THIS CELL\n",
    "conn = sqlite3.connect('bhejane.db')\n",
    "cursor = conn.cursor()"
   ]
  },
  {
   "cell_type": "markdown",
   "metadata": {
    "id": "G-WGBpmDgwv-"
   },
   "source": [
    "#### Creating both Products and Transaction Tables"
   ]
  },
  {
   "cell_type": "code",
   "execution_count": 4,
   "metadata": {
    "id": "qp-DQik7gwv-",
    "outputId": "16d1c6b9-fd74-40b1-c8a9-11807656b122"
   },
   "outputs": [
    {
     "name": "stdout",
     "output_type": "stream",
     "text": [
      "Query started at 10:33:26 AM South Africa Standard Time; Query executed in 0.00 m"
     ]
    },
    {
     "data": {
      "text/plain": [
       "<sql_magic.exceptions.EmptyResult at 0x2512aa04cd0>"
      ]
     },
     "execution_count": 4,
     "metadata": {},
     "output_type": "execute_result"
    }
   ],
   "source": [
    "%%read_sql\n",
    "--DO NOT EDIT THIS CELL\n",
    "DROP TABLE IF EXISTS \"Products\";\n",
    "DROP TABLE IF EXISTS \"Transactions\";\n",
    "\n",
    "CREATE TABLE \"Products\" (\n",
    "    \"Width\"   REAL,\n",
    "    \"Length\"  REAL,\n",
    "    \"Height\"  REAL,\n",
    "    \"Barcode\" VARCHAR(150) NOT NULL,\n",
    "    \"Quantity\" INTEGER NOT NULL,\n",
    "    \"Brand\" VARCHAR(150), \n",
    "    \"NavigationPath\" VARCHAR(150),\n",
    "    \"Colour\" VARCHAR(150),\n",
    "    \"StockCountry\" VARCHAR(150),\n",
    "    \"ProductDescription\" VARCHAR(150) NOT NULL,\n",
    "    \"PackType\" VARCHAR(150), \n",
    "    \"Volume_litre\" REAL, \n",
    "    \"Warranty\" VARCHAR(150), \n",
    "    \"Weight_kg\" REAL,\n",
    "    \"ItemDescription\" VARCHAR(150), \n",
    "    \"Price\" REAL\n",
    ");\n",
    "\n",
    "\n",
    "CREATE TABLE \"Transactions\" (\n",
    "    \"CartID\" INTEGER,\n",
    "    \"Barcode\" VARCHAR(150), \n",
    "    \"Total\" REAL,\n",
    "    \"UserName\" VARCHAR(150), \n",
    "    \"InvoiceDate\" DATETIME\n",
    ");\n",
    "\n"
   ]
  },
  {
   "cell_type": "markdown",
   "metadata": {
    "id": "m3W5ah4PgwwG"
   },
   "source": [
    "#### Load Data into Product and Transaction tables"
   ]
  },
  {
   "cell_type": "code",
   "execution_count": 5,
   "metadata": {
    "id": "VW_oEkizgwwH"
   },
   "outputs": [],
   "source": [
    "# DO NOT EDIT CELL\n",
    "# Load data into Product table\n",
    "with open('bhejane_covid_essentials_Products.csv','r') as fin: # `with` statement available in 2.5+\n",
    "    # csv.DictReader uses first line in file for column headings by default\n",
    "    dr = csv.DictReader(fin) # comma is default delimiter\n",
    "    to_db = [(i['Width'],i['Length'],i['Height'], i['Barcode'], i['Quantity'], i['Brand'], i['NavigationPath'], i['Colour'], i['StockCountry'], i['ProductDescription'],i['PackType'],i['Volume_litre'],i['Warranty'],i['Weight_kg'],i[\"ItemDescription\"],i['Price']) for i in dr]\n",
    "\n",
    "cursor.executemany(\"INSERT INTO Products VALUES (?, ?, ?, ?, ?, ?, ?, ?, ?, ?, ?, ?, ?, ?, ?, ?);\", to_db)\n",
    "conn.commit()\n",
    "\n",
    "with open('bhejane_covid_essentials_Transactions.csv','r') as fin: # `with` statement available in 2.5+\n",
    "    # csv.DictReader uses first line in file for column headings by default\n",
    "    dr = csv.DictReader(fin) # comma is default delimiter\n",
    "    to_db = [(i['CartID'],i['Barcode'], i['Total'], i['UserName'], i['InvoiceDate']) for i in dr]\n",
    "\n",
    "cursor.executemany(\"INSERT INTO Transactions VALUES (?, ?, ?, ?, ?);\", to_db)\n",
    "conn.commit()"
   ]
  },
  {
   "cell_type": "markdown",
   "metadata": {
    "id": "uo9PWlZtgwwO"
   },
   "source": [
    "<a id='ERD'></a>\n",
    "### 5. Denormalized Database Tables\n",
    "\n",
    "\n",
    "<br>\n",
    "\n",
    "<img src=\"https://raw.githubusercontent.com/Explore-AI/Pictures/master/SQL4DS/SQL_Predict/Denormalized_Tables.png\" alt=\"Denormalized Tables\" border=\"0\">"
   ]
  },
  {
   "cell_type": "markdown",
   "metadata": {},
   "source": [
    "#### 5.1 Explore the Denormalized Tables\n",
    "Familiarize yourself with the data given in the two tables by writing your own SQL queries to explore properties of the dataset.i.e Look for data inconsistencies, anormalies, redundancies etc to guide your normalization process. \n",
    "\n",
    "This section will not be graded - think of it as your own scratch pad.\n",
    "\n"
   ]
  },
  {
   "cell_type": "code",
   "execution_count": 6,
   "metadata": {
    "scrolled": true
   },
   "outputs": [
    {
     "name": "stdout",
     "output_type": "stream",
     "text": [
      "Query started at 10:33:37 AM South Africa Standard Time; Query executed in 0.00 m"
     ]
    },
    {
     "data": {
      "text/html": [
       "<div>\n",
       "<style scoped>\n",
       "    .dataframe tbody tr th:only-of-type {\n",
       "        vertical-align: middle;\n",
       "    }\n",
       "\n",
       "    .dataframe tbody tr th {\n",
       "        vertical-align: top;\n",
       "    }\n",
       "\n",
       "    .dataframe thead th {\n",
       "        text-align: right;\n",
       "    }\n",
       "</style>\n",
       "<table border=\"1\" class=\"dataframe\">\n",
       "  <thead>\n",
       "    <tr style=\"text-align: right;\">\n",
       "      <th></th>\n",
       "      <th>Count (Distinct Barcode)</th>\n",
       "    </tr>\n",
       "  </thead>\n",
       "  <tbody>\n",
       "    <tr>\n",
       "      <th>0</th>\n",
       "      <td>608</td>\n",
       "    </tr>\n",
       "  </tbody>\n",
       "</table>\n",
       "</div>"
      ],
      "text/plain": [
       "   Count (Distinct Barcode)\n",
       "0                       608"
      ]
     },
     "execution_count": 6,
     "metadata": {},
     "output_type": "execute_result"
    }
   ],
   "source": [
    "%%read_sql\n",
    "-- #Use this section to explore the database by writing your own queries\n",
    "\n",
    "SELECT Count (Distinct Barcode)\n",
    "FROM Products"
   ]
  },
  {
   "cell_type": "markdown",
   "metadata": {},
   "source": [
    "### 6. Normalize the given Database tables to the 1st Normal Form (1NF)\n",
    "\n",
    "Given the below below target ERD create new tables such the the database conforms to the 1st Normal Form\n",
    "\n",
    "<img src=\"https://raw.githubusercontent.com/Explore-AI/Pictures/master/SQL4DS/SQL_Predict/1NF.png\" alt=\"1st Normal Form ERD\" border=\"0\">\n",
    "\n",
    "It is suggested that you create all your tables before attempting to populate them with data, this will help reduce errors that might creep up due to logical dependencies."
   ]
  },
  {
   "cell_type": "markdown",
   "metadata": {},
   "source": [
    "#### 6.1 Create the tables required for the 1st Normal Form\n",
    "Use the above ERD sketch to create the required tables. Please label your tables as they appear in the ERD sketch"
   ]
  },
  {
   "cell_type": "code",
   "execution_count": 7,
   "metadata": {},
   "outputs": [
    {
     "name": "stdout",
     "output_type": "stream",
     "text": [
      "Query started at 10:33:45 AM South Africa Standard Time; Query executed in 0.00 m"
     ]
    },
    {
     "data": {
      "text/plain": [
       "<sql_magic.exceptions.EmptyResult at 0x2512aa04e50>"
      ]
     },
     "execution_count": 7,
     "metadata": {},
     "output_type": "execute_result"
    }
   ],
   "source": [
    "%%read_sql\n",
    "--#Create tables required for 1NF\n",
    "\n",
    "DROP TABLE IF EXISTS Transactions_1NF;\n",
    "DROP TABLE IF EXISTS Products_1NF;\n",
    "\n",
    "\n",
    "CREATE TABLE Products_1NF (\n",
    "            Barcode VARCHAR(150) NOT NULL,\n",
    "            NavigationPath VARCHAR(150) NOT NULL,\n",
    "            ItemDescription VARCHAR(150) NOT NULL,\n",
    "            ProductDescription VARCHAR(150) NOT NULL,\n",
    "            Brand VARCHAR(150),\n",
    "            Price REAL NOT NULL,\n",
    "            Quantity INTEGER NOT NULL,\n",
    "            PackType VARCHAR(150),\n",
    "            Warranty VARCHAR(150),\n",
    "            StockCountry VARCHAR(150),\n",
    "            Colour VARCHAR(150),\n",
    "            Weight_kg REAL,\n",
    "            Volume_litre REAL,\n",
    "            Length REAL,\n",
    "            Width REAL,\n",
    "            Height REAL,\n",
    "            PRIMARY KEY (Barcode, NavigationPath, ItemDescription));\n",
    "\n",
    "\n",
    "CREATE TABLE Transactions_1NF (\n",
    "            CartID INTEGER NOT NULL,\n",
    "            Barcode VARCHAR(150) NOT NULL,\n",
    "            UserName VARCHAR(150) NOT NULL,\n",
    "            InvoiceDate DATETIME NOT NULL,\n",
    "            Total REAL NOT NULL,\n",
    "            PRIMARY KEY (CartID, Barcode));\n",
    "            \n",
    "            \n"
   ]
  },
  {
   "cell_type": "markdown",
   "metadata": {},
   "source": [
    "#### 6.2 Populate the tables you have create in the above section.\n",
    "\n",
    "Populate the tables such that the database conforms to the 1st Normal Form"
   ]
  },
  {
   "cell_type": "code",
   "execution_count": 8,
   "metadata": {
    "scrolled": true
   },
   "outputs": [
    {
     "name": "stdout",
     "output_type": "stream",
     "text": [
      "Query started at 10:33:50 AM South Africa Standard Time; Query executed in 0.00 m"
     ]
    },
    {
     "data": {
      "text/plain": [
       "<sql_magic.exceptions.EmptyResult at 0x25128255640>"
      ]
     },
     "execution_count": 8,
     "metadata": {},
     "output_type": "execute_result"
    }
   ],
   "source": [
    "%%read_sql\n",
    "--#Populate the 1NF tables\n",
    "\n",
    " --INSERT INTO Products_1NF (Barcode, NavigationPath, ItemDescription, ProductDescription, Brand, Price, Quantity, PackType, Warranty, StockCountry, Colour, Weight_kg, Volume_litre, Length, Width, Height)\n",
    "  \n",
    "  INSERT INTO Products_1NF(Barcode, NavigationPath, ItemDescription, ProductDescription, Brand, Price, Quantity, PackType, Warranty, StockCountry, Colour, Weight_kg, Volume_litre, Length, Width, Height)\n",
    "  SELECT Distinct Barcode, NavigationPath, ItemDescription, ProductDescription, Brand, Price, Quantity, PackType, Warranty, StockCountry, Colour, Weight_kg, Volume_litre, Length, Width, Height\n",
    "  FROM Products\n",
    "  ORDER BY BarCode;\n",
    "  \n",
    "  INSERT INTO Transactions_1NF (CartID, Barcode, UserName, InvoiceDate, Total)\n",
    "  SELECT DISTINCT CartID, Barcode, UserName, InvoiceDate, Total\n",
    "  FROM Transactions\n",
    "  ORDER BY CartID;\n",
    "  \n",
    "  \n"
   ]
  },
  {
   "cell_type": "code",
   "execution_count": 9,
   "metadata": {},
   "outputs": [
    {
     "name": "stdout",
     "output_type": "stream",
     "text": [
      "Query started at 10:33:55 AM South Africa Standard Time; Query executed in 0.00 m"
     ]
    },
    {
     "data": {
      "text/html": [
       "<div>\n",
       "<style scoped>\n",
       "    .dataframe tbody tr th:only-of-type {\n",
       "        vertical-align: middle;\n",
       "    }\n",
       "\n",
       "    .dataframe tbody tr th {\n",
       "        vertical-align: top;\n",
       "    }\n",
       "\n",
       "    .dataframe thead th {\n",
       "        text-align: right;\n",
       "    }\n",
       "</style>\n",
       "<table border=\"1\" class=\"dataframe\">\n",
       "  <thead>\n",
       "    <tr style=\"text-align: right;\">\n",
       "      <th></th>\n",
       "      <th>count(Distinct Products_1NF.Barcode)</th>\n",
       "    </tr>\n",
       "  </thead>\n",
       "  <tbody>\n",
       "    <tr>\n",
       "      <th>0</th>\n",
       "      <td>608</td>\n",
       "    </tr>\n",
       "  </tbody>\n",
       "</table>\n",
       "</div>"
      ],
      "text/plain": [
       "   count(Distinct Products_1NF.Barcode)\n",
       "0                                   608"
      ]
     },
     "execution_count": 9,
     "metadata": {},
     "output_type": "execute_result"
    }
   ],
   "source": [
    "%%read_sql\n",
    "\n",
    "\n",
    "SELECT count(Distinct Products_1NF.Barcode)\n",
    "From Products_1NF "
   ]
  },
  {
   "cell_type": "code",
   "execution_count": 10,
   "metadata": {},
   "outputs": [
    {
     "name": "stdout",
     "output_type": "stream",
     "text": [
      "Query started at 10:34:06 AM South Africa Standard Time; Query executed in 0.00 m"
     ]
    },
    {
     "data": {
      "text/plain": [
       "<sql_magic.exceptions.EmptyResult at 0x2512aa04b20>"
      ]
     },
     "execution_count": 10,
     "metadata": {},
     "output_type": "execute_result"
    }
   ],
   "source": [
    "%%read_sql\n",
    "\n",
    "DROP TABLE Products;\n",
    "DROP TABLE Transactions;"
   ]
  },
  {
   "cell_type": "code",
   "execution_count": null,
   "metadata": {},
   "outputs": [],
   "source": [
    "%%read_sql\n",
    "\n",
    "-- REFER TO NOTEBOOK 2NFTABLES AND 3NFTABLES FOR 2NF AND 3NF NOMALIZATION RESPECTIVELY"
   ]
  },
  {
   "cell_type": "markdown",
   "metadata": {},
   "source": [
    "###  7. Convert the database into its 2nd Normal Form (2NF).\n",
    "\n",
    "Please label your tables as they appear in the ERD sketch.\n",
    "\n",
    "<img src=\"https://raw.githubusercontent.com/Explore-AI/Pictures/master/SQL4DS/SQL_Predict/2NF.png\" alt=\"2nd Normal Form ERD\" border=\"0\">"
   ]
  },
  {
   "cell_type": "code",
   "execution_count": null,
   "metadata": {},
   "outputs": [],
   "source": [
    "%%read_sql\n",
    "\n",
    "-- REFER TO NOTEBOOK 2NFTABLES AND 3NFTABLES FOR 2NF AND 3NF NOMALIZATION RESPECTIVELY"
   ]
  },
  {
   "cell_type": "markdown",
   "metadata": {
    "id": "2BXpm06CgwwO"
   },
   "source": [
    "<a id='Target_ERD'></a>\n",
    "### 8. Convert the table into its 3rd Normal Form (3NF)\n",
    "\n",
    "Please label your tables as they appear in the ERD sketch\n",
    "\n",
    "<br>\n",
    "\n",
    "<img src=\"https://raw.githubusercontent.com/Explore-AI/Pictures/master/SQL4DS/SQL_Predict/3NF.png\" alt=\"3rd Normal Form ERD\" border=\"0\"></a>"
   ]
  },
  {
   "cell_type": "code",
   "execution_count": null,
   "metadata": {},
   "outputs": [],
   "source": [
    "%%read_sql\n",
    "\n",
    "-- REFER TO NOTEBOOK 2NFTABLES AND 3NFTABLES FOR 2NF AND 3NF NOMALIZATION RESPECTIVELY"
   ]
  },
  {
   "cell_type": "markdown",
   "metadata": {
    "id": "zMvJZFQsGE03"
   },
   "source": [
    "<a id='MCQ_questions'></a>\n",
    "## 9. MCQ Questions\n",
    "\n",
    "Having completed the normalisation of the database, you may use the following cells to help you answer the MCQs for the predict. "
   ]
  },
  {
   "cell_type": "markdown",
   "metadata": {
    "id": "hEVNjuirGE03"
   },
   "source": [
    "Q1) How many unique products does the company have?"
   ]
  },
  {
   "cell_type": "code",
   "execution_count": 25,
   "metadata": {
    "id": "y3hoYpGxGE03"
   },
   "outputs": [
    {
     "name": "stdout",
     "output_type": "stream",
     "text": [
      "Query started at 10:53:23 AM South Africa Standard Time; Query executed in 0.00 m"
     ]
    },
    {
     "data": {
      "text/html": [
       "<div>\n",
       "<style scoped>\n",
       "    .dataframe tbody tr th:only-of-type {\n",
       "        vertical-align: middle;\n",
       "    }\n",
       "\n",
       "    .dataframe tbody tr th {\n",
       "        vertical-align: top;\n",
       "    }\n",
       "\n",
       "    .dataframe thead th {\n",
       "        text-align: right;\n",
       "    }\n",
       "</style>\n",
       "<table border=\"1\" class=\"dataframe\">\n",
       "  <thead>\n",
       "    <tr style=\"text-align: right;\">\n",
       "      <th></th>\n",
       "      <th>COUNT (DISTINCT BarCode)</th>\n",
       "    </tr>\n",
       "  </thead>\n",
       "  <tbody>\n",
       "    <tr>\n",
       "      <th>0</th>\n",
       "      <td>608</td>\n",
       "    </tr>\n",
       "  </tbody>\n",
       "</table>\n",
       "</div>"
      ],
      "text/plain": [
       "   COUNT (DISTINCT BarCode)\n",
       "0                       608"
      ]
     },
     "execution_count": 25,
     "metadata": {},
     "output_type": "execute_result"
    }
   ],
   "source": [
    "%%read_sql\n",
    "-- Write your query here:\n",
    "\n",
    "SELECT COUNT (DISTINCT BarCode)\n",
    "FROM Products_3NF\n",
    "WHERE Barcode != ''\n",
    "\n"
   ]
  },
  {
   "cell_type": "markdown",
   "metadata": {
    "id": "WsQZQ8tuGE03"
   },
   "source": [
    "Q2) How many users bought from Bhejane in April 2020?"
   ]
  },
  {
   "cell_type": "code",
   "execution_count": 132,
   "metadata": {
    "id": "hFz7XUw_GE04"
   },
   "outputs": [
    {
     "name": "stdout",
     "output_type": "stream",
     "text": [
      "Query started at 05:57:27 PM South Africa Standard Time; Query executed in 0.00 m"
     ]
    },
    {
     "data": {
      "text/html": [
       "<div>\n",
       "<style scoped>\n",
       "    .dataframe tbody tr th:only-of-type {\n",
       "        vertical-align: middle;\n",
       "    }\n",
       "\n",
       "    .dataframe tbody tr th {\n",
       "        vertical-align: top;\n",
       "    }\n",
       "\n",
       "    .dataframe thead th {\n",
       "        text-align: right;\n",
       "    }\n",
       "</style>\n",
       "<table border=\"1\" class=\"dataframe\">\n",
       "  <thead>\n",
       "    <tr style=\"text-align: right;\">\n",
       "      <th></th>\n",
       "      <th>Count(DISTINCT UserID)</th>\n",
       "    </tr>\n",
       "  </thead>\n",
       "  <tbody>\n",
       "    <tr>\n",
       "      <th>0</th>\n",
       "      <td>31</td>\n",
       "    </tr>\n",
       "  </tbody>\n",
       "</table>\n",
       "</div>"
      ],
      "text/plain": [
       "   Count(DISTINCT UserID)\n",
       "0                      31"
      ]
     },
     "execution_count": 132,
     "metadata": {},
     "output_type": "execute_result"
    }
   ],
   "source": [
    "%%read_sql\n",
    "-- Write your query here:\n",
    "\n",
    "SELECT Count(DISTINCT UserID)\n",
    "FROM Transactions_3NF\n",
    "WHERE InvoiceDate LIKE '2020-04%'\n"
   ]
  },
  {
   "cell_type": "markdown",
   "metadata": {
    "id": "iBRifthWGE04"
   },
   "source": [
    "Q3) How many users bought three or more items whose combined total was more than R1000 in a single transaction?"
   ]
  },
  {
   "cell_type": "code",
   "execution_count": 28,
   "metadata": {},
   "outputs": [
    {
     "name": "stdout",
     "output_type": "stream",
     "text": [
      "Query started at 10:55:44 AM South Africa Standard Time; Query executed in 0.00 m"
     ]
    },
    {
     "data": {
      "text/html": [
       "<div>\n",
       "<style scoped>\n",
       "    .dataframe tbody tr th:only-of-type {\n",
       "        vertical-align: middle;\n",
       "    }\n",
       "\n",
       "    .dataframe tbody tr th {\n",
       "        vertical-align: top;\n",
       "    }\n",
       "\n",
       "    .dataframe thead th {\n",
       "        text-align: right;\n",
       "    }\n",
       "</style>\n",
       "<table border=\"1\" class=\"dataframe\">\n",
       "  <thead>\n",
       "    <tr style=\"text-align: right;\">\n",
       "      <th></th>\n",
       "      <th>UserName</th>\n",
       "      <th>InvoiceDate</th>\n",
       "      <th>Total</th>\n",
       "    </tr>\n",
       "  </thead>\n",
       "  <tbody>\n",
       "    <tr>\n",
       "      <th>0</th>\n",
       "      <td>Adele</td>\n",
       "      <td>2020-06-27 0:00:00</td>\n",
       "      <td>1177.0</td>\n",
       "    </tr>\n",
       "    <tr>\n",
       "      <th>1</th>\n",
       "      <td>DIMPHO</td>\n",
       "      <td>2020-07-02 0:00:00</td>\n",
       "      <td>1523.0</td>\n",
       "    </tr>\n",
       "    <tr>\n",
       "      <th>2</th>\n",
       "      <td>Daffy</td>\n",
       "      <td>2020-04-17 0:00:00</td>\n",
       "      <td>1134.0</td>\n",
       "    </tr>\n",
       "    <tr>\n",
       "      <th>3</th>\n",
       "      <td>Hanno</td>\n",
       "      <td>2020-06-09 0:00:00</td>\n",
       "      <td>1334.0</td>\n",
       "    </tr>\n",
       "    <tr>\n",
       "      <th>4</th>\n",
       "      <td>Junaid</td>\n",
       "      <td>2020-08-04 0:00:00</td>\n",
       "      <td>3301.0</td>\n",
       "    </tr>\n",
       "    <tr>\n",
       "      <th>5</th>\n",
       "      <td>Karyn</td>\n",
       "      <td>2020-05-31 0:00:00</td>\n",
       "      <td>1137.0</td>\n",
       "    </tr>\n",
       "    <tr>\n",
       "      <th>6</th>\n",
       "      <td>Mandla</td>\n",
       "      <td>2020-06-07 0:00:00</td>\n",
       "      <td>1351.0</td>\n",
       "    </tr>\n",
       "    <tr>\n",
       "      <th>7</th>\n",
       "      <td>Margaret</td>\n",
       "      <td>2020-06-13 0:00:00</td>\n",
       "      <td>1716.0</td>\n",
       "    </tr>\n",
       "    <tr>\n",
       "      <th>8</th>\n",
       "      <td>Mel</td>\n",
       "      <td>2020-07-24 0:00:00</td>\n",
       "      <td>1114.0</td>\n",
       "    </tr>\n",
       "    <tr>\n",
       "      <th>9</th>\n",
       "      <td>Melandi</td>\n",
       "      <td>2020-08-11 0:00:00</td>\n",
       "      <td>2535.0</td>\n",
       "    </tr>\n",
       "    <tr>\n",
       "      <th>10</th>\n",
       "      <td>Zanele</td>\n",
       "      <td>2020-04-04 0:00:00</td>\n",
       "      <td>3464.0</td>\n",
       "    </tr>\n",
       "  </tbody>\n",
       "</table>\n",
       "</div>"
      ],
      "text/plain": [
       "    UserName         InvoiceDate   Total\n",
       "0      Adele  2020-06-27 0:00:00  1177.0\n",
       "1     DIMPHO  2020-07-02 0:00:00  1523.0\n",
       "2      Daffy  2020-04-17 0:00:00  1134.0\n",
       "3      Hanno  2020-06-09 0:00:00  1334.0\n",
       "4     Junaid  2020-08-04 0:00:00  3301.0\n",
       "5      Karyn  2020-05-31 0:00:00  1137.0\n",
       "6     Mandla  2020-06-07 0:00:00  1351.0\n",
       "7   Margaret  2020-06-13 0:00:00  1716.0\n",
       "8        Mel  2020-07-24 0:00:00  1114.0\n",
       "9    Melandi  2020-08-11 0:00:00  2535.0\n",
       "10    Zanele  2020-04-04 0:00:00  3464.0"
      ]
     },
     "execution_count": 28,
     "metadata": {},
     "output_type": "execute_result"
    }
   ],
   "source": [
    "%%read_sql\n",
    "\n",
    "-- Write your query here:\n",
    "\n",
    "SELECT Username, InvoiceDate, Total\n",
    "FROM Users_3NF\n",
    "INNER JOIN Transactions_3NF ON Transactions_3NF.UserID = Users_3NF.UserID\n",
    "GROUP BY Username, InvoiceDate\n",
    "Having COUNT (UserName) >= 3 AND Total > 1000\n",
    "ORDER BY Username\n"
   ]
  },
  {
   "cell_type": "markdown",
   "metadata": {
    "id": "9_-usJoSGE04"
   },
   "source": [
    "Q4) Which user(s) made the largest purchase on a sinlge transaction?"
   ]
  },
  {
   "cell_type": "code",
   "execution_count": 133,
   "metadata": {
    "id": "3i7wS1jJGE04",
    "scrolled": true
   },
   "outputs": [
    {
     "name": "stdout",
     "output_type": "stream",
     "text": [
      "Query started at 05:59:24 PM South Africa Standard Time; Query executed in 0.00 m"
     ]
    },
    {
     "data": {
      "text/html": [
       "<div>\n",
       "<style scoped>\n",
       "    .dataframe tbody tr th:only-of-type {\n",
       "        vertical-align: middle;\n",
       "    }\n",
       "\n",
       "    .dataframe tbody tr th {\n",
       "        vertical-align: top;\n",
       "    }\n",
       "\n",
       "    .dataframe thead th {\n",
       "        text-align: right;\n",
       "    }\n",
       "</style>\n",
       "<table border=\"1\" class=\"dataframe\">\n",
       "  <thead>\n",
       "    <tr style=\"text-align: right;\">\n",
       "      <th></th>\n",
       "      <th>UserName</th>\n",
       "      <th>InvoiceDate</th>\n",
       "      <th>Barcode</th>\n",
       "      <th>Total</th>\n",
       "    </tr>\n",
       "  </thead>\n",
       "  <tbody>\n",
       "    <tr>\n",
       "      <th>0</th>\n",
       "      <td>Brigette</td>\n",
       "      <td>2020-05-30 0:00:00</td>\n",
       "      <td>HTB5ABG31E3</td>\n",
       "      <td>10999.0</td>\n",
       "    </tr>\n",
       "    <tr>\n",
       "      <th>1</th>\n",
       "      <td>Mandla</td>\n",
       "      <td>2020-04-11 0:00:00</td>\n",
       "      <td>HTB5ABG31E3</td>\n",
       "      <td>10999.0</td>\n",
       "    </tr>\n",
       "    <tr>\n",
       "      <th>2</th>\n",
       "      <td>Andreas Peter</td>\n",
       "      <td>2020-03-27 0:00:00</td>\n",
       "      <td>HTB5FI3BC8C</td>\n",
       "      <td>3765.0</td>\n",
       "    </tr>\n",
       "    <tr>\n",
       "      <th>3</th>\n",
       "      <td>Mzoxolo</td>\n",
       "      <td>2020-08-12 0:00:00</td>\n",
       "      <td>HTB5FI3BC8C</td>\n",
       "      <td>3765.0</td>\n",
       "    </tr>\n",
       "    <tr>\n",
       "      <th>4</th>\n",
       "      <td>Zanele</td>\n",
       "      <td>2020-04-04 0:00:00</td>\n",
       "      <td>617566827837</td>\n",
       "      <td>3464.0</td>\n",
       "    </tr>\n",
       "    <tr>\n",
       "      <th>...</th>\n",
       "      <td>...</td>\n",
       "      <td>...</td>\n",
       "      <td>...</td>\n",
       "      <td>...</td>\n",
       "    </tr>\n",
       "    <tr>\n",
       "      <th>186</th>\n",
       "      <td>Wayne</td>\n",
       "      <td>2020-08-10 0:00:00</td>\n",
       "      <td>6001865825405</td>\n",
       "      <td>23.0</td>\n",
       "    </tr>\n",
       "    <tr>\n",
       "      <th>187</th>\n",
       "      <td>Janine</td>\n",
       "      <td>2020-05-08 0:00:00</td>\n",
       "      <td>6002292008348</td>\n",
       "      <td>13.0</td>\n",
       "    </tr>\n",
       "    <tr>\n",
       "      <th>188</th>\n",
       "      <td>Cindy</td>\n",
       "      <td>2020-07-01 0:00:00</td>\n",
       "      <td>6006485007460</td>\n",
       "      <td>12.0</td>\n",
       "    </tr>\n",
       "    <tr>\n",
       "      <th>189</th>\n",
       "      <td>Michelle</td>\n",
       "      <td>2020-05-17 0:00:00</td>\n",
       "      <td>8714574600109</td>\n",
       "      <td>10.0</td>\n",
       "    </tr>\n",
       "    <tr>\n",
       "      <th>190</th>\n",
       "      <td>Ridhaa</td>\n",
       "      <td>2020-04-21 0:00:00</td>\n",
       "      <td>6001651090130</td>\n",
       "      <td>1.0</td>\n",
       "    </tr>\n",
       "  </tbody>\n",
       "</table>\n",
       "<p>191 rows × 4 columns</p>\n",
       "</div>"
      ],
      "text/plain": [
       "          UserName         InvoiceDate        Barcode    Total\n",
       "0         Brigette  2020-05-30 0:00:00    HTB5ABG31E3  10999.0\n",
       "1           Mandla  2020-04-11 0:00:00    HTB5ABG31E3  10999.0\n",
       "2    Andreas Peter  2020-03-27 0:00:00    HTB5FI3BC8C   3765.0\n",
       "3          Mzoxolo  2020-08-12 0:00:00    HTB5FI3BC8C   3765.0\n",
       "4           Zanele  2020-04-04 0:00:00   617566827837   3464.0\n",
       "..             ...                 ...            ...      ...\n",
       "186          Wayne  2020-08-10 0:00:00  6001865825405     23.0\n",
       "187         Janine  2020-05-08 0:00:00  6002292008348     13.0\n",
       "188          Cindy  2020-07-01 0:00:00  6006485007460     12.0\n",
       "189       Michelle  2020-05-17 0:00:00  8714574600109     10.0\n",
       "190         Ridhaa  2020-04-21 0:00:00  6001651090130      1.0\n",
       "\n",
       "[191 rows x 4 columns]"
      ]
     },
     "execution_count": 133,
     "metadata": {},
     "output_type": "execute_result"
    }
   ],
   "source": [
    "%%read_sql\n",
    "-- Write your query here\n",
    "SELECT Username,InvoiceDate, Barcode, Total\n",
    "FROM Users_3NF\n",
    "INNER JOIN Transactions_3NF ON Transactions_3NF.UserID = Users_3NF.UserID\n",
    "GROUP BY Username, InvoiceDate\n",
    "ORDER BY Total DESC"
   ]
  },
  {
   "cell_type": "markdown",
   "metadata": {
    "id": "Ik1EeR1dGE04"
   },
   "source": [
    "Q5) How many components does the product: \"5m Colour Changing RGB LED Strip Light\" (MPTAL57588104) come with?"
   ]
  },
  {
   "cell_type": "code",
   "execution_count": 45,
   "metadata": {
    "id": "BhTlfGsyGE04"
   },
   "outputs": [
    {
     "name": "stdout",
     "output_type": "stream",
     "text": [
      "Query started at 02:01:38 PM South Africa Standard Time; Query executed in 0.00 m"
     ]
    },
    {
     "data": {
      "text/html": [
       "<div>\n",
       "<style scoped>\n",
       "    .dataframe tbody tr th:only-of-type {\n",
       "        vertical-align: middle;\n",
       "    }\n",
       "\n",
       "    .dataframe tbody tr th {\n",
       "        vertical-align: top;\n",
       "    }\n",
       "\n",
       "    .dataframe thead th {\n",
       "        text-align: right;\n",
       "    }\n",
       "</style>\n",
       "<table border=\"1\" class=\"dataframe\">\n",
       "  <thead>\n",
       "    <tr style=\"text-align: right;\">\n",
       "      <th></th>\n",
       "      <th>Count(DISTINCT ItemDescription)</th>\n",
       "      <th>Barcode</th>\n",
       "      <th>ProductDescription</th>\n",
       "    </tr>\n",
       "  </thead>\n",
       "  <tbody>\n",
       "    <tr>\n",
       "      <th>0</th>\n",
       "      <td>4</td>\n",
       "      <td>MPTAL57588104</td>\n",
       "      <td>5m Colour Changing RGB LED Strip Light</td>\n",
       "    </tr>\n",
       "  </tbody>\n",
       "</table>\n",
       "</div>"
      ],
      "text/plain": [
       "   Count(DISTINCT ItemDescription)        Barcode  \\\n",
       "0                                4  MPTAL57588104   \n",
       "\n",
       "                       ProductDescription  \n",
       "0  5m Colour Changing RGB LED Strip Light  "
      ]
     },
     "execution_count": 45,
     "metadata": {},
     "output_type": "execute_result"
    }
   ],
   "source": [
    "%%read_sql\n",
    "-- Write your query here\n",
    " SELECT Count(DISTINCT ItemDescription),Barcode,ProductDescription\n",
    " FROM Products_3NF\n",
    " INNER JOIN PackageContents_3NF ON PackageContents_3NF.ItemID = Products_3NF.ItemID\n",
    " WHERE Barcode = 'MPTAL57588104'"
   ]
  },
  {
   "cell_type": "markdown",
   "metadata": {
    "id": "CLNf-BoGGE04"
   },
   "source": [
    "Q6) How many brands are available at Bhejane?"
   ]
  },
  {
   "cell_type": "code",
   "execution_count": 29,
   "metadata": {
    "id": "afrVCqnYGE04"
   },
   "outputs": [
    {
     "name": "stdout",
     "output_type": "stream",
     "text": [
      "Query started at 10:57:16 AM South Africa Standard Time; Query executed in 0.00 m"
     ]
    },
    {
     "data": {
      "text/html": [
       "<div>\n",
       "<style scoped>\n",
       "    .dataframe tbody tr th:only-of-type {\n",
       "        vertical-align: middle;\n",
       "    }\n",
       "\n",
       "    .dataframe tbody tr th {\n",
       "        vertical-align: top;\n",
       "    }\n",
       "\n",
       "    .dataframe thead th {\n",
       "        text-align: right;\n",
       "    }\n",
       "</style>\n",
       "<table border=\"1\" class=\"dataframe\">\n",
       "  <thead>\n",
       "    <tr style=\"text-align: right;\">\n",
       "      <th></th>\n",
       "      <th>COUNT(DISTINCT Brand)</th>\n",
       "    </tr>\n",
       "  </thead>\n",
       "  <tbody>\n",
       "    <tr>\n",
       "      <th>0</th>\n",
       "      <td>232</td>\n",
       "    </tr>\n",
       "  </tbody>\n",
       "</table>\n",
       "</div>"
      ],
      "text/plain": [
       "   COUNT(DISTINCT Brand)\n",
       "0                    232"
      ]
     },
     "execution_count": 29,
     "metadata": {},
     "output_type": "execute_result"
    }
   ],
   "source": [
    "%%read_sql\n",
    "-- Write your query here:\n",
    "\n",
    "SELECT COUNT(DISTINCT Brand) \n",
    "FROM Brands_3NF\n",
    "WHERE Brand != ''"
   ]
  },
  {
   "cell_type": "markdown",
   "metadata": {
    "id": "B4usZSh1GE04"
   },
   "source": [
    "7) What is the price of the \"Verimark - Floorwiz 2in1 Mop\"?"
   ]
  },
  {
   "cell_type": "code",
   "execution_count": 48,
   "metadata": {
    "id": "8xipCT9JGE04"
   },
   "outputs": [
    {
     "name": "stdout",
     "output_type": "stream",
     "text": [
      "Query started at 03:32:53 PM South Africa Standard Time; Query executed in 0.00 m"
     ]
    },
    {
     "data": {
      "text/html": [
       "<div>\n",
       "<style scoped>\n",
       "    .dataframe tbody tr th:only-of-type {\n",
       "        vertical-align: middle;\n",
       "    }\n",
       "\n",
       "    .dataframe tbody tr th {\n",
       "        vertical-align: top;\n",
       "    }\n",
       "\n",
       "    .dataframe thead th {\n",
       "        text-align: right;\n",
       "    }\n",
       "</style>\n",
       "<table border=\"1\" class=\"dataframe\">\n",
       "  <thead>\n",
       "    <tr style=\"text-align: right;\">\n",
       "      <th></th>\n",
       "      <th>Barcode</th>\n",
       "      <th>ProductDescription</th>\n",
       "      <th>Price</th>\n",
       "    </tr>\n",
       "  </thead>\n",
       "  <tbody>\n",
       "    <tr>\n",
       "      <th>0</th>\n",
       "      <td>6005427110503</td>\n",
       "      <td>Verimark - Floorwiz 2in1 Mop</td>\n",
       "      <td>179.0</td>\n",
       "    </tr>\n",
       "    <tr>\n",
       "      <th>1</th>\n",
       "      <td>6005427110503</td>\n",
       "      <td>Verimark - Floorwiz 2in1 Mop</td>\n",
       "      <td>179.0</td>\n",
       "    </tr>\n",
       "    <tr>\n",
       "      <th>2</th>\n",
       "      <td>6005427110503</td>\n",
       "      <td>Verimark - Floorwiz 2in1 Mop</td>\n",
       "      <td>179.0</td>\n",
       "    </tr>\n",
       "  </tbody>\n",
       "</table>\n",
       "</div>"
      ],
      "text/plain": [
       "         Barcode            ProductDescription  Price\n",
       "0  6005427110503  Verimark - Floorwiz 2in1 Mop  179.0\n",
       "1  6005427110503  Verimark - Floorwiz 2in1 Mop  179.0\n",
       "2  6005427110503  Verimark - Floorwiz 2in1 Mop  179.0"
      ]
     },
     "execution_count": 48,
     "metadata": {},
     "output_type": "execute_result"
    }
   ],
   "source": [
    "%%read_sql\n",
    "-- Write your query here:\n",
    "SELECT BarCode, ProductDescription, Price\n",
    "FROM Products_3NF\n",
    "WHERE ProductDescription = \"Verimark - Floorwiz 2in1 Mop\""
   ]
  },
  {
   "cell_type": "markdown",
   "metadata": {
    "id": "BGaE5N7nGE04"
   },
   "source": [
    "Q8) Calculate the package volume of the \"Russell Hobbs - Slow Cooker\" using the given dimensions. Round your answer to the nearest integer and ignore units for the calculation."
   ]
  },
  {
   "cell_type": "code",
   "execution_count": 53,
   "metadata": {
    "id": "4pOPg-jAGE04"
   },
   "outputs": [
    {
     "name": "stdout",
     "output_type": "stream",
     "text": [
      "Query started at 03:40:24 PM South Africa Standard Time; Query executed in 0.00 m"
     ]
    },
    {
     "data": {
      "text/html": [
       "<div>\n",
       "<style scoped>\n",
       "    .dataframe tbody tr th:only-of-type {\n",
       "        vertical-align: middle;\n",
       "    }\n",
       "\n",
       "    .dataframe tbody tr th {\n",
       "        vertical-align: top;\n",
       "    }\n",
       "\n",
       "    .dataframe thead th {\n",
       "        text-align: right;\n",
       "    }\n",
       "</style>\n",
       "<table border=\"1\" class=\"dataframe\">\n",
       "  <thead>\n",
       "    <tr style=\"text-align: right;\">\n",
       "      <th></th>\n",
       "      <th>Barcode</th>\n",
       "      <th>ProductDescription</th>\n",
       "      <th>Volume</th>\n",
       "    </tr>\n",
       "  </thead>\n",
       "  <tbody>\n",
       "    <tr>\n",
       "      <th>0</th>\n",
       "      <td>6002322013823</td>\n",
       "      <td>Russell Hobbs - Slow Cooker</td>\n",
       "      <td>26928.0</td>\n",
       "    </tr>\n",
       "  </tbody>\n",
       "</table>\n",
       "</div>"
      ],
      "text/plain": [
       "         Barcode           ProductDescription   Volume\n",
       "0  6002322013823  Russell Hobbs - Slow Cooker  26928.0"
      ]
     },
     "execution_count": 53,
     "metadata": {},
     "output_type": "execute_result"
    }
   ],
   "source": [
    "%%read_sql\n",
    "-- Write your query here:\n",
    "\n",
    "SELECT DISTINCT Barcode, ProductDescription, Length*Width*Height AS Volume\n",
    "FROM Products_3NF\n",
    "WHERE ProductDescription =  \"Russell Hobbs - Slow Cooker\""
   ]
  },
  {
   "cell_type": "markdown",
   "metadata": {
    "id": "ZDogodiAGE04"
   },
   "source": [
    "Q9) Which user made the most transactions in the Year 2020?"
   ]
  },
  {
   "cell_type": "code",
   "execution_count": 59,
   "metadata": {
    "id": "PVUj_9THGE04"
   },
   "outputs": [
    {
     "name": "stdout",
     "output_type": "stream",
     "text": [
      "Query started at 03:48:32 PM South Africa Standard Time; Query executed in 0.00 m"
     ]
    },
    {
     "data": {
      "text/html": [
       "<div>\n",
       "<style scoped>\n",
       "    .dataframe tbody tr th:only-of-type {\n",
       "        vertical-align: middle;\n",
       "    }\n",
       "\n",
       "    .dataframe tbody tr th {\n",
       "        vertical-align: top;\n",
       "    }\n",
       "\n",
       "    .dataframe thead th {\n",
       "        text-align: right;\n",
       "    }\n",
       "</style>\n",
       "<table border=\"1\" class=\"dataframe\">\n",
       "  <thead>\n",
       "    <tr style=\"text-align: right;\">\n",
       "      <th></th>\n",
       "      <th>UserName</th>\n",
       "      <th>COUNT(CartID)</th>\n",
       "    </tr>\n",
       "  </thead>\n",
       "  <tbody>\n",
       "    <tr>\n",
       "      <th>0</th>\n",
       "      <td>Cornelis</td>\n",
       "      <td>9</td>\n",
       "    </tr>\n",
       "    <tr>\n",
       "      <th>1</th>\n",
       "      <td>Erlo</td>\n",
       "      <td>8</td>\n",
       "    </tr>\n",
       "    <tr>\n",
       "      <th>2</th>\n",
       "      <td>Zanele</td>\n",
       "      <td>6</td>\n",
       "    </tr>\n",
       "    <tr>\n",
       "      <th>3</th>\n",
       "      <td>Heather</td>\n",
       "      <td>6</td>\n",
       "    </tr>\n",
       "    <tr>\n",
       "      <th>4</th>\n",
       "      <td>Mandla</td>\n",
       "      <td>5</td>\n",
       "    </tr>\n",
       "    <tr>\n",
       "      <th>...</th>\n",
       "      <td>...</td>\n",
       "      <td>...</td>\n",
       "    </tr>\n",
       "    <tr>\n",
       "      <th>155</th>\n",
       "      <td>Angelica Fernandez</td>\n",
       "      <td>1</td>\n",
       "    </tr>\n",
       "    <tr>\n",
       "      <th>156</th>\n",
       "      <td>Andiswa</td>\n",
       "      <td>1</td>\n",
       "    </tr>\n",
       "    <tr>\n",
       "      <th>157</th>\n",
       "      <td>Andisa Moleboheng</td>\n",
       "      <td>1</td>\n",
       "    </tr>\n",
       "    <tr>\n",
       "      <th>158</th>\n",
       "      <td>Alicia</td>\n",
       "      <td>1</td>\n",
       "    </tr>\n",
       "    <tr>\n",
       "      <th>159</th>\n",
       "      <td>Adeebah</td>\n",
       "      <td>1</td>\n",
       "    </tr>\n",
       "  </tbody>\n",
       "</table>\n",
       "<p>160 rows × 2 columns</p>\n",
       "</div>"
      ],
      "text/plain": [
       "               UserName  COUNT(CartID)\n",
       "0              Cornelis              9\n",
       "1                  Erlo              8\n",
       "2                Zanele              6\n",
       "3               Heather              6\n",
       "4                Mandla              5\n",
       "..                  ...            ...\n",
       "155  Angelica Fernandez              1\n",
       "156             Andiswa              1\n",
       "157   Andisa Moleboheng              1\n",
       "158              Alicia              1\n",
       "159             Adeebah              1\n",
       "\n",
       "[160 rows x 2 columns]"
      ]
     },
     "execution_count": 59,
     "metadata": {},
     "output_type": "execute_result"
    }
   ],
   "source": [
    "%%read_sql\n",
    "-- Write your query here:\n",
    "SELECT UserName, COUNT(CartID) \n",
    "FROM Users_3NF\n",
    "INNER JOIN Transactions_3NF ON Transactions_3NF.UserID = Users_3NF.UserID\n",
    "GROUP BY UserName\n",
    "ORDER BY COUNT(CartID) DESC"
   ]
  },
  {
   "cell_type": "markdown",
   "metadata": {
    "id": "A_5dz4coGE04"
   },
   "source": [
    "Q10) What is the total number of recorded users that shop at Bhejane?"
   ]
  },
  {
   "cell_type": "code",
   "execution_count": 30,
   "metadata": {
    "id": "gVDNbI7pGE04"
   },
   "outputs": [
    {
     "name": "stdout",
     "output_type": "stream",
     "text": [
      "Query started at 10:59:38 AM South Africa Standard Time; Query executed in 0.00 m"
     ]
    },
    {
     "data": {
      "text/html": [
       "<div>\n",
       "<style scoped>\n",
       "    .dataframe tbody tr th:only-of-type {\n",
       "        vertical-align: middle;\n",
       "    }\n",
       "\n",
       "    .dataframe tbody tr th {\n",
       "        vertical-align: top;\n",
       "    }\n",
       "\n",
       "    .dataframe thead th {\n",
       "        text-align: right;\n",
       "    }\n",
       "</style>\n",
       "<table border=\"1\" class=\"dataframe\">\n",
       "  <thead>\n",
       "    <tr style=\"text-align: right;\">\n",
       "      <th></th>\n",
       "      <th>Count (DISTINCT UserID)</th>\n",
       "    </tr>\n",
       "  </thead>\n",
       "  <tbody>\n",
       "    <tr>\n",
       "      <th>0</th>\n",
       "      <td>160</td>\n",
       "    </tr>\n",
       "  </tbody>\n",
       "</table>\n",
       "</div>"
      ],
      "text/plain": [
       "   Count (DISTINCT UserID)\n",
       "0                      160"
      ]
     },
     "execution_count": 30,
     "metadata": {},
     "output_type": "execute_result"
    }
   ],
   "source": [
    "%%read_sql\n",
    "-- Write your query here:\n",
    "\n",
    "SELECT Count (DISTINCT UserID)\n",
    "FROM Transactions_3NF\n",
    "WHERE InvoiceDate != '' AND Total != ''\n"
   ]
  },
  {
   "cell_type": "markdown",
   "metadata": {
    "id": "8AS0LCOaGE04"
   },
   "source": [
    "Q11) What is the record count for the Colours_3NF Table?"
   ]
  },
  {
   "cell_type": "code",
   "execution_count": 32,
   "metadata": {
    "id": "9UdfWoubGE04"
   },
   "outputs": [
    {
     "name": "stdout",
     "output_type": "stream",
     "text": [
      "Query started at 11:00:35 AM South Africa Standard Time; Query executed in 0.00 m"
     ]
    },
    {
     "data": {
      "text/html": [
       "<div>\n",
       "<style scoped>\n",
       "    .dataframe tbody tr th:only-of-type {\n",
       "        vertical-align: middle;\n",
       "    }\n",
       "\n",
       "    .dataframe tbody tr th {\n",
       "        vertical-align: top;\n",
       "    }\n",
       "\n",
       "    .dataframe thead th {\n",
       "        text-align: right;\n",
       "    }\n",
       "</style>\n",
       "<table border=\"1\" class=\"dataframe\">\n",
       "  <thead>\n",
       "    <tr style=\"text-align: right;\">\n",
       "      <th></th>\n",
       "      <th>COUNT(DISTINCT Colour)</th>\n",
       "    </tr>\n",
       "  </thead>\n",
       "  <tbody>\n",
       "    <tr>\n",
       "      <th>0</th>\n",
       "      <td>17</td>\n",
       "    </tr>\n",
       "  </tbody>\n",
       "</table>\n",
       "</div>"
      ],
      "text/plain": [
       "   COUNT(DISTINCT Colour)\n",
       "0                      17"
      ]
     },
     "execution_count": 32,
     "metadata": {},
     "output_type": "execute_result"
    }
   ],
   "source": [
    "%%read_sql\n",
    "-- Write your query here:\n",
    "SELECT  COUNT(DISTINCT Colour)\n",
    "FROM Colours_3NF"
   ]
  },
  {
   "cell_type": "markdown",
   "metadata": {
    "id": "cfQAeUYhGE04"
   },
   "source": [
    "Q12) What would the total price be if I had the following items in my cart?\n",
    "* MPTAL57588104\n",
    "* 5000394203921\n",
    "* 6932391917652"
   ]
  },
  {
   "cell_type": "code",
   "execution_count": 80,
   "metadata": {
    "id": "K9fGfD9mGE04"
   },
   "outputs": [
    {
     "name": "stdout",
     "output_type": "stream",
     "text": [
      "Query started at 04:12:51 PM South Africa Standard Time; Query executed in 0.00 m"
     ]
    },
    {
     "data": {
      "text/html": [
       "<div>\n",
       "<style scoped>\n",
       "    .dataframe tbody tr th:only-of-type {\n",
       "        vertical-align: middle;\n",
       "    }\n",
       "\n",
       "    .dataframe tbody tr th {\n",
       "        vertical-align: top;\n",
       "    }\n",
       "\n",
       "    .dataframe thead th {\n",
       "        text-align: right;\n",
       "    }\n",
       "</style>\n",
       "<table border=\"1\" class=\"dataframe\">\n",
       "  <thead>\n",
       "    <tr style=\"text-align: right;\">\n",
       "      <th></th>\n",
       "      <th>((SELECT DISTINCT Price\\nFROM Products_3NF\\nWHERE Barcode = 'MPTAL57588104') +\\n\\n(SELECT DISTINCT Price\\nFROM Products_3NF\\nWHERE Barcode = '5000394203921') +\\n\\n(SELECT DISTINCT Price\\nFROM Products_3NF\\nWHERE Barcode = '6932391917652'))</th>\n",
       "    </tr>\n",
       "  </thead>\n",
       "  <tbody>\n",
       "    <tr>\n",
       "      <th>0</th>\n",
       "      <td>734.0</td>\n",
       "    </tr>\n",
       "  </tbody>\n",
       "</table>\n",
       "</div>"
      ],
      "text/plain": [
       "   ((SELECT DISTINCT Price\\nFROM Products_3NF\\nWHERE Barcode = 'MPTAL57588104') +\\n\\n(SELECT DISTINCT Price\\nFROM Products_3NF\\nWHERE Barcode = '5000394203921') +\\n\\n(SELECT DISTINCT Price\\nFROM Products_3NF\\nWHERE Barcode = '6932391917652'))\n",
       "0                                              734.0                                                                                                                                                                                              "
      ]
     },
     "execution_count": 80,
     "metadata": {},
     "output_type": "execute_result"
    }
   ],
   "source": [
    "%%read_sql\n",
    "-- Write your query here\n",
    "SELECT \n",
    "((SELECT DISTINCT Price\n",
    "FROM Products_3NF\n",
    "WHERE Barcode = 'MPTAL57588104') +\n",
    "\n",
    "(SELECT DISTINCT Price\n",
    "FROM Products_3NF\n",
    "WHERE Barcode = '5000394203921') +\n",
    "\n",
    "(SELECT DISTINCT Price\n",
    "FROM Products_3NF\n",
    "WHERE Barcode = '6932391917652'))\n",
    "\n",
    "FROM Products_3NF\n",
    "LIMIT 1"
   ]
  },
  {
   "cell_type": "markdown",
   "metadata": {
    "id": "DGhN2UuaGE04"
   },
   "source": [
    "Q13) What is the barcode of the most sold product?"
   ]
  },
  {
   "cell_type": "code",
   "execution_count": 136,
   "metadata": {
    "id": "t5w4A2l1GE04"
   },
   "outputs": [
    {
     "name": "stdout",
     "output_type": "stream",
     "text": [
      "Query started at 06:05:40 PM South Africa Standard Time; Query executed in 0.00 m"
     ]
    },
    {
     "data": {
      "text/html": [
       "<div>\n",
       "<style scoped>\n",
       "    .dataframe tbody tr th:only-of-type {\n",
       "        vertical-align: middle;\n",
       "    }\n",
       "\n",
       "    .dataframe tbody tr th {\n",
       "        vertical-align: top;\n",
       "    }\n",
       "\n",
       "    .dataframe thead th {\n",
       "        text-align: right;\n",
       "    }\n",
       "</style>\n",
       "<table border=\"1\" class=\"dataframe\">\n",
       "  <thead>\n",
       "    <tr style=\"text-align: right;\">\n",
       "      <th></th>\n",
       "      <th>Count(Barcode)</th>\n",
       "      <th>Barcode</th>\n",
       "    </tr>\n",
       "  </thead>\n",
       "  <tbody>\n",
       "    <tr>\n",
       "      <th>0</th>\n",
       "      <td>4</td>\n",
       "      <td>4015400541813</td>\n",
       "    </tr>\n",
       "    <tr>\n",
       "      <th>1</th>\n",
       "      <td>3</td>\n",
       "      <td>MPTAL00404857</td>\n",
       "    </tr>\n",
       "    <tr>\n",
       "      <th>2</th>\n",
       "      <td>3</td>\n",
       "      <td>HURACANNANOWAVE1</td>\n",
       "    </tr>\n",
       "    <tr>\n",
       "      <th>3</th>\n",
       "      <td>3</td>\n",
       "      <td>6009686620537</td>\n",
       "    </tr>\n",
       "    <tr>\n",
       "      <th>4</th>\n",
       "      <td>3</td>\n",
       "      <td>6001865825405</td>\n",
       "    </tr>\n",
       "    <tr>\n",
       "      <th>...</th>\n",
       "      <td>...</td>\n",
       "      <td>...</td>\n",
       "    </tr>\n",
       "    <tr>\n",
       "      <th>218</th>\n",
       "      <td>1</td>\n",
       "      <td>5000394020146</td>\n",
       "    </tr>\n",
       "    <tr>\n",
       "      <th>219</th>\n",
       "      <td>1</td>\n",
       "      <td>4902505163104</td>\n",
       "    </tr>\n",
       "    <tr>\n",
       "      <th>220</th>\n",
       "      <td>1</td>\n",
       "      <td>43859499182</td>\n",
       "    </tr>\n",
       "    <tr>\n",
       "      <th>221</th>\n",
       "      <td>1</td>\n",
       "      <td>4210201043577</td>\n",
       "    </tr>\n",
       "    <tr>\n",
       "      <th>222</th>\n",
       "      <td>1</td>\n",
       "      <td>300507946</td>\n",
       "    </tr>\n",
       "  </tbody>\n",
       "</table>\n",
       "<p>223 rows × 2 columns</p>\n",
       "</div>"
      ],
      "text/plain": [
       "     Count(Barcode)           Barcode\n",
       "0                 4     4015400541813\n",
       "1                 3     MPTAL00404857\n",
       "2                 3  HURACANNANOWAVE1\n",
       "3                 3     6009686620537\n",
       "4                 3     6001865825405\n",
       "..              ...               ...\n",
       "218               1     5000394020146\n",
       "219               1     4902505163104\n",
       "220               1       43859499182\n",
       "221               1     4210201043577\n",
       "222               1         300507946\n",
       "\n",
       "[223 rows x 2 columns]"
      ]
     },
     "execution_count": 136,
     "metadata": {},
     "output_type": "execute_result"
    }
   ],
   "source": [
    "%%read_sql\n",
    "\n",
    "-- Write your query here\n",
    "SELECT Count(Barcode), Barcode\n",
    "FROM Transactions_3NF\n",
    "GROUP BY Barcode\n",
    "Order BY Count(Barcode) DESC"
   ]
  },
  {
   "cell_type": "markdown",
   "metadata": {
    "id": "TINkZg-7GE05"
   },
   "source": [
    "Q14) What are the products of Cornelis’ cart on the 2020-06-28 0:00:00?"
   ]
  },
  {
   "cell_type": "code",
   "execution_count": 89,
   "metadata": {
    "id": "82Bmwr7bGE05",
    "scrolled": true
   },
   "outputs": [
    {
     "name": "stdout",
     "output_type": "stream",
     "text": [
      "Query started at 04:26:48 PM South Africa Standard Time; Query executed in 0.00 m"
     ]
    },
    {
     "data": {
      "text/html": [
       "<div>\n",
       "<style scoped>\n",
       "    .dataframe tbody tr th:only-of-type {\n",
       "        vertical-align: middle;\n",
       "    }\n",
       "\n",
       "    .dataframe tbody tr th {\n",
       "        vertical-align: top;\n",
       "    }\n",
       "\n",
       "    .dataframe thead th {\n",
       "        text-align: right;\n",
       "    }\n",
       "</style>\n",
       "<table border=\"1\" class=\"dataframe\">\n",
       "  <thead>\n",
       "    <tr style=\"text-align: right;\">\n",
       "      <th></th>\n",
       "      <th>UserID</th>\n",
       "      <th>UserName</th>\n",
       "      <th>Barcode</th>\n",
       "      <th>InvoiceDate</th>\n",
       "      <th>ProductDescription</th>\n",
       "    </tr>\n",
       "  </thead>\n",
       "  <tbody>\n",
       "    <tr>\n",
       "      <th>0</th>\n",
       "      <td>10</td>\n",
       "      <td>Cornelis</td>\n",
       "      <td>6001106124069</td>\n",
       "      <td>2020-06-28 0:00:00</td>\n",
       "      <td>Dettol Body Wash - Shower Gel - Original - 600ml</td>\n",
       "    </tr>\n",
       "    <tr>\n",
       "      <th>1</th>\n",
       "      <td>10</td>\n",
       "      <td>Cornelis</td>\n",
       "      <td>6003753002035AP</td>\n",
       "      <td>2020-06-28 0:00:00</td>\n",
       "      <td>Vitality Aloe Vera Gel 100ml</td>\n",
       "    </tr>\n",
       "    <tr>\n",
       "      <th>2</th>\n",
       "      <td>10</td>\n",
       "      <td>Cornelis</td>\n",
       "      <td>6003753002035AP</td>\n",
       "      <td>2020-06-28 0:00:00</td>\n",
       "      <td>Vitality Aloe Vera Gel 100ml</td>\n",
       "    </tr>\n",
       "    <tr>\n",
       "      <th>3</th>\n",
       "      <td>10</td>\n",
       "      <td>Cornelis</td>\n",
       "      <td>6003753002035AP</td>\n",
       "      <td>2020-06-28 0:00:00</td>\n",
       "      <td>Vitality Aloe Vera Gel 100ml</td>\n",
       "    </tr>\n",
       "    <tr>\n",
       "      <th>4</th>\n",
       "      <td>10</td>\n",
       "      <td>Cornelis</td>\n",
       "      <td>MPTAL00555756</td>\n",
       "      <td>2020-06-28 0:00:00</td>\n",
       "      <td>Sparq Active Resistance Loop Band - Set of 5 w...</td>\n",
       "    </tr>\n",
       "    <tr>\n",
       "      <th>5</th>\n",
       "      <td>10</td>\n",
       "      <td>Cornelis</td>\n",
       "      <td>MPTAL00555756</td>\n",
       "      <td>2020-06-28 0:00:00</td>\n",
       "      <td>Sparq Active Resistance Loop Band - Set of 5 w...</td>\n",
       "    </tr>\n",
       "    <tr>\n",
       "      <th>6</th>\n",
       "      <td>10</td>\n",
       "      <td>Cornelis</td>\n",
       "      <td>MPTAL72193414</td>\n",
       "      <td>2020-06-28 0:00:00</td>\n",
       "      <td>Protective Face Shield</td>\n",
       "    </tr>\n",
       "    <tr>\n",
       "      <th>7</th>\n",
       "      <td>10</td>\n",
       "      <td>Cornelis</td>\n",
       "      <td>MPTAL72193414</td>\n",
       "      <td>2020-06-28 0:00:00</td>\n",
       "      <td>Protective Face Shield</td>\n",
       "    </tr>\n",
       "  </tbody>\n",
       "</table>\n",
       "</div>"
      ],
      "text/plain": [
       "   UserID  UserName          Barcode         InvoiceDate  \\\n",
       "0      10  Cornelis    6001106124069  2020-06-28 0:00:00   \n",
       "1      10  Cornelis  6003753002035AP  2020-06-28 0:00:00   \n",
       "2      10  Cornelis  6003753002035AP  2020-06-28 0:00:00   \n",
       "3      10  Cornelis  6003753002035AP  2020-06-28 0:00:00   \n",
       "4      10  Cornelis    MPTAL00555756  2020-06-28 0:00:00   \n",
       "5      10  Cornelis    MPTAL00555756  2020-06-28 0:00:00   \n",
       "6      10  Cornelis    MPTAL72193414  2020-06-28 0:00:00   \n",
       "7      10  Cornelis    MPTAL72193414  2020-06-28 0:00:00   \n",
       "\n",
       "                                  ProductDescription  \n",
       "0   Dettol Body Wash - Shower Gel - Original - 600ml  \n",
       "1                       Vitality Aloe Vera Gel 100ml  \n",
       "2                       Vitality Aloe Vera Gel 100ml  \n",
       "3                       Vitality Aloe Vera Gel 100ml  \n",
       "4  Sparq Active Resistance Loop Band - Set of 5 w...  \n",
       "5  Sparq Active Resistance Loop Band - Set of 5 w...  \n",
       "6                             Protective Face Shield  \n",
       "7                             Protective Face Shield  "
      ]
     },
     "execution_count": 89,
     "metadata": {},
     "output_type": "execute_result"
    }
   ],
   "source": [
    "%%read_sql\n",
    "\n",
    "-- Write your query here:\n",
    "SELECT Transactions_3NF.UserID, UserName, Transactions_3NF.BarCode, InvoiceDate, ProductDescription\n",
    "FROM Transactions_3NF\n",
    "INNER JOIN Users_3NF ON Transactions_3NF.UserID = Users_3NF.UserID\n",
    "INNER JOIN Products_3NF ON Products_3NF.Barcode = Transactions_3NF. Barcode\n",
    "WHERE Username = 'Cornelis' AND InvoiceDate = '2020-06-28 0:00:00'"
   ]
  },
  {
   "cell_type": "markdown",
   "metadata": {},
   "source": [
    "Q15) Which users bought locally produced, black-coloured products on odd-numbered months of the year, and what was the total cost (rounded to the nearest integer) of these products?"
   ]
  },
  {
   "cell_type": "code",
   "execution_count": 129,
   "metadata": {
    "scrolled": true
   },
   "outputs": [
    {
     "name": "stdout",
     "output_type": "stream",
     "text": [
      "Query started at 05:50:32 PM South Africa Standard Time; Query executed in 0.00 m"
     ]
    },
    {
     "data": {
      "text/html": [
       "<div>\n",
       "<style scoped>\n",
       "    .dataframe tbody tr th:only-of-type {\n",
       "        vertical-align: middle;\n",
       "    }\n",
       "\n",
       "    .dataframe tbody tr th {\n",
       "        vertical-align: top;\n",
       "    }\n",
       "\n",
       "    .dataframe thead th {\n",
       "        text-align: right;\n",
       "    }\n",
       "</style>\n",
       "<table border=\"1\" class=\"dataframe\">\n",
       "  <thead>\n",
       "    <tr style=\"text-align: right;\">\n",
       "      <th></th>\n",
       "      <th>UserID</th>\n",
       "      <th>Barcode</th>\n",
       "      <th>InvoiceDate</th>\n",
       "      <th>Price</th>\n",
       "      <th>Colour</th>\n",
       "      <th>StockCountry</th>\n",
       "      <th>Total</th>\n",
       "    </tr>\n",
       "  </thead>\n",
       "  <tbody>\n",
       "    <tr>\n",
       "      <th>0</th>\n",
       "      <td>7</td>\n",
       "      <td>741311301174</td>\n",
       "      <td>2020-03-31 0:00:00</td>\n",
       "      <td>1999.0</td>\n",
       "      <td>Black</td>\n",
       "      <td>South Africa</td>\n",
       "      <td>1999.0</td>\n",
       "    </tr>\n",
       "    <tr>\n",
       "      <th>1</th>\n",
       "      <td>16</td>\n",
       "      <td>6941428152961</td>\n",
       "      <td>2020-05-18 0:00:00</td>\n",
       "      <td>798.0</td>\n",
       "      <td>Black</td>\n",
       "      <td>South Africa</td>\n",
       "      <td>798.0</td>\n",
       "    </tr>\n",
       "    <tr>\n",
       "      <th>2</th>\n",
       "      <td>17</td>\n",
       "      <td>5000394020146</td>\n",
       "      <td>2020-07-04 0:00:00</td>\n",
       "      <td>189.0</td>\n",
       "      <td>Black</td>\n",
       "      <td>South Africa</td>\n",
       "      <td>189.0</td>\n",
       "    </tr>\n",
       "    <tr>\n",
       "      <th>3</th>\n",
       "      <td>28</td>\n",
       "      <td>6001246636682</td>\n",
       "      <td>2020-07-26 0:00:00</td>\n",
       "      <td>93.0</td>\n",
       "      <td>Black</td>\n",
       "      <td>South Africa</td>\n",
       "      <td>93.0</td>\n",
       "    </tr>\n",
       "    <tr>\n",
       "      <th>4</th>\n",
       "      <td>71</td>\n",
       "      <td>6925281939952</td>\n",
       "      <td>2020-05-04 0:00:00</td>\n",
       "      <td>799.0</td>\n",
       "      <td>Black</td>\n",
       "      <td>South Africa</td>\n",
       "      <td>799.0</td>\n",
       "    </tr>\n",
       "    <tr>\n",
       "      <th>5</th>\n",
       "      <td>75</td>\n",
       "      <td>7290012291685</td>\n",
       "      <td>2020-07-28 0:00:00</td>\n",
       "      <td>179.0</td>\n",
       "      <td>Black</td>\n",
       "      <td>South Africa</td>\n",
       "      <td>179.0</td>\n",
       "    </tr>\n",
       "    <tr>\n",
       "      <th>6</th>\n",
       "      <td>89</td>\n",
       "      <td>MPTAL00215561</td>\n",
       "      <td>2020-07-02 0:00:00</td>\n",
       "      <td>186.0</td>\n",
       "      <td>Black</td>\n",
       "      <td>South Africa</td>\n",
       "      <td>1523.0</td>\n",
       "    </tr>\n",
       "  </tbody>\n",
       "</table>\n",
       "</div>"
      ],
      "text/plain": [
       "   UserID        Barcode         InvoiceDate   Price Colour  StockCountry  \\\n",
       "0       7   741311301174  2020-03-31 0:00:00  1999.0  Black  South Africa   \n",
       "1      16  6941428152961  2020-05-18 0:00:00   798.0  Black  South Africa   \n",
       "2      17  5000394020146  2020-07-04 0:00:00   189.0  Black  South Africa   \n",
       "3      28  6001246636682  2020-07-26 0:00:00    93.0  Black  South Africa   \n",
       "4      71  6925281939952  2020-05-04 0:00:00   799.0  Black  South Africa   \n",
       "5      75  7290012291685  2020-07-28 0:00:00   179.0  Black  South Africa   \n",
       "6      89  MPTAL00215561  2020-07-02 0:00:00   186.0  Black  South Africa   \n",
       "\n",
       "    Total  \n",
       "0  1999.0  \n",
       "1   798.0  \n",
       "2   189.0  \n",
       "3    93.0  \n",
       "4   799.0  \n",
       "5   179.0  \n",
       "6  1523.0  "
      ]
     },
     "execution_count": 129,
     "metadata": {},
     "output_type": "execute_result"
    }
   ],
   "source": [
    "%%read_sql\n",
    "\n",
    "--Write your query here\n",
    "\n",
    "SELECT DISTINCT UserID,Transactions_3NF.BarCode, InvoiceDate, SUM() Price, Colour, StockCountry, Total\n",
    "FROM Products_3NF\n",
    "INNER JOIN Transactions_3NF ON Transactions_3NF.Barcode = Products_3NF.Barcode\n",
    "INNER JOIN Colours_3NF ON Colours_3NF.ColourID = Products_3NF.ColourID\n",
    "INNER JOIN Locations_3NF ON Locations_3NF.LocationID = Products_3NF.LocationID\n",
    "WHERE (Colour = 'Black' AND StockCountry = 'South Africa') AND (InvoiceDate LIKE '2020-01%' OR InvoiceDate LIKE '2020-03%' OR InvoiceDate LIKE '2020-05%' OR InvoiceDate LIKE '2020-07%' OR InvoiceDate LIKE '2020-09%' OR InvoiceDate LIKE '2020-11%')\n",
    "Order By UserID\n"
   ]
  },
  {
   "cell_type": "code",
   "execution_count": 131,
   "metadata": {},
   "outputs": [
    {
     "name": "stdout",
     "output_type": "stream",
     "text": [
      "Query started at 05:52:28 PM South Africa Standard Time; Query executed in 0.00 m"
     ]
    },
    {
     "data": {
      "text/html": [
       "<div>\n",
       "<style scoped>\n",
       "    .dataframe tbody tr th:only-of-type {\n",
       "        vertical-align: middle;\n",
       "    }\n",
       "\n",
       "    .dataframe tbody tr th {\n",
       "        vertical-align: top;\n",
       "    }\n",
       "\n",
       "    .dataframe thead th {\n",
       "        text-align: right;\n",
       "    }\n",
       "</style>\n",
       "<table border=\"1\" class=\"dataframe\">\n",
       "  <thead>\n",
       "    <tr style=\"text-align: right;\">\n",
       "      <th></th>\n",
       "      <th>UserID</th>\n",
       "      <th>UserName</th>\n",
       "    </tr>\n",
       "  </thead>\n",
       "  <tbody>\n",
       "    <tr>\n",
       "      <th>0</th>\n",
       "      <td>7</td>\n",
       "      <td>Cindy</td>\n",
       "    </tr>\n",
       "    <tr>\n",
       "      <th>1</th>\n",
       "      <td>16</td>\n",
       "      <td>Lacin</td>\n",
       "    </tr>\n",
       "    <tr>\n",
       "      <th>2</th>\n",
       "      <td>17</td>\n",
       "      <td>Hester</td>\n",
       "    </tr>\n",
       "    <tr>\n",
       "      <th>3</th>\n",
       "      <td>28</td>\n",
       "      <td>Conrad</td>\n",
       "    </tr>\n",
       "    <tr>\n",
       "      <th>4</th>\n",
       "      <td>71</td>\n",
       "      <td>Carel</td>\n",
       "    </tr>\n",
       "    <tr>\n",
       "      <th>5</th>\n",
       "      <td>75</td>\n",
       "      <td>Jeandre</td>\n",
       "    </tr>\n",
       "    <tr>\n",
       "      <th>6</th>\n",
       "      <td>89</td>\n",
       "      <td>DIMPHO</td>\n",
       "    </tr>\n",
       "  </tbody>\n",
       "</table>\n",
       "</div>"
      ],
      "text/plain": [
       "   UserID UserName\n",
       "0       7    Cindy\n",
       "1      16    Lacin\n",
       "2      17   Hester\n",
       "3      28   Conrad\n",
       "4      71    Carel\n",
       "5      75  Jeandre\n",
       "6      89   DIMPHO"
      ]
     },
     "execution_count": 131,
     "metadata": {},
     "output_type": "execute_result"
    }
   ],
   "source": [
    "%%read_sql\n",
    "\n",
    "SELECT UserID, UserName\n",
    "FROM Users_3NF\n",
    "WHERE UserID IN (7,16,17,28,71,75,89) "
   ]
  },
  {
   "cell_type": "code",
   "execution_count": null,
   "metadata": {},
   "outputs": [],
   "source": []
  }
 ],
 "metadata": {
  "colab": {
   "collapsed_sections": [],
   "name": "SQL_Predict_Student_Notebook.ipynb",
   "provenance": []
  },
  "kernelspec": {
   "display_name": "Python 3",
   "language": "python",
   "name": "python3"
  },
  "language_info": {
   "codemirror_mode": {
    "name": "ipython",
    "version": 3
   },
   "file_extension": ".py",
   "mimetype": "text/x-python",
   "name": "python",
   "nbconvert_exporter": "python",
   "pygments_lexer": "ipython3",
   "version": "3.8.5"
  }
 },
 "nbformat": 4,
 "nbformat_minor": 4
}
